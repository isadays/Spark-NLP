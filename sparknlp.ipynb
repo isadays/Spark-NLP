{
 "cells": [
  {
   "cell_type": "code",
   "execution_count": 3,
   "metadata": {},
   "outputs": [
    {
     "name": "stdout",
     "output_type": "stream",
     "text": [
      "Collecting pyspark\n",
      "  Downloading pyspark-3.5.1.tar.gz (317.0 MB)\n",
      "\u001b[K     |████████████████████████████████| 317.0 MB 18 kB/s  eta 0:00:011    |██████▊                         | 66.5 MB 4.6 MB/s eta 0:00:55     |██████▊                         | 66.9 MB 4.6 MB/s eta 0:00:55     |█████████████▍                  | 132.8 MB 4.0 MB/s eta 0:00:46     |█████████████▉                  | 136.9 MB 2.7 MB/s eta 0:01:06     |██████████████▊                 | 145.8 MB 5.0 MB/s eta 0:00:35     |████████████████▊               | 165.5 MB 5.8 MB/s eta 0:00:26     |████████████████▉               | 167.2 MB 7.5 MB/s eta 0:00:20     |█████████████████████████▏      | 248.8 MB 4.7 MB/s eta 0:00:15 |██████████████████████████▉     | 266.1 MB 4.7 MB/s eta 0:00:11     |███████████████████████████▍    | 270.9 MB 1.0 MB/s eta 0:00:46     |███████████████████████████▌    | 272.6 MB 1.0 MB/s eta 0:00:44     |████████████████████████████    | 276.6 MB 6.5 MB/s eta 0:00:07\n",
      "\u001b[?25hCollecting py4j==0.10.9.7\n",
      "  Downloading py4j-0.10.9.7-py2.py3-none-any.whl (200 kB)\n",
      "\u001b[K     |████████████████████████████████| 200 kB 3.1 MB/s eta 0:00:01\n",
      "\u001b[?25hUsing legacy 'setup.py install' for pyspark, since package 'wheel' is not installed.\n",
      "Installing collected packages: py4j, pyspark\n",
      "    Running setup.py install for pyspark ... \u001b[?25ldone\n",
      "\u001b[?25hSuccessfully installed py4j-0.10.9.7 pyspark-3.5.1\n",
      "\u001b[33mWARNING: You are using pip version 21.1.3; however, version 24.1.1 is available.\n",
      "You should consider upgrading via the '/Users/isabeladias/.pyenv/versions/3.9.6/bin/python3.9 -m pip install --upgrade pip' command.\u001b[0m\n"
     ]
    }
   ],
   "source": [
    "!pip install pyspark sparknlp pandas"
   ]
  },
  {
   "cell_type": "code",
   "execution_count": 4,
   "metadata": {},
   "outputs": [
    {
     "name": "stderr",
     "output_type": "stream",
     "text": [
      "/var/folders/fv/z4h0lznx44n3wybc34chcwhr0000gn/T/ipykernel_95845/3309149586.py:6: DeprecationWarning: Importing display from IPython.core.display is deprecated since IPython 7.14, please import from IPython display\n",
      "  from IPython.core.display import display, HTML\n"
     ]
    }
   ],
   "source": [
    "from pyspark.sql import functions as F\n",
    "from pyspark.sql.functions import lit\n",
    "from pyspark.sql.types import StringType, DataType,ArrayType\n",
    "from pyspark.sql.functions import udf, struct\n",
    "from pyspark.ml import Pipeline\n",
    "from IPython.core.display import display, HTML\n",
    "import re\n"
   ]
  },
  {
   "cell_type": "code",
   "execution_count": 7,
   "metadata": {},
   "outputs": [
    {
     "name": "stdout",
     "output_type": "stream",
     "text": [
      ":: loading settings :: url = jar:file:/Users/isabeladias/.pyenv/versions/3.9.6/lib/python3.9/site-packages/pyspark/jars/ivy-2.5.1.jar!/org/apache/ivy/core/settings/ivysettings.xml\n"
     ]
    },
    {
     "name": "stderr",
     "output_type": "stream",
     "text": [
      "Ivy Default Cache set to: /Users/isabeladias/.ivy2/cache\n",
      "The jars for the packages stored in: /Users/isabeladias/.ivy2/jars\n",
      "com.johnsnowlabs.nlp#spark-nlp_2.12 added as a dependency\n",
      ":: resolving dependencies :: org.apache.spark#spark-submit-parent-f073322f-79e0-456f-9354-a94835d40390;1.0\n",
      "\tconfs: [default]\n",
      "\tfound com.johnsnowlabs.nlp#spark-nlp_2.12;5.4.0 in central\n",
      "\tfound com.typesafe#config;1.4.2 in central\n",
      "\tfound org.rocksdb#rocksdbjni;6.29.5 in central\n",
      "\tfound com.amazonaws#aws-java-sdk-s3;1.12.500 in central\n",
      "\tfound com.amazonaws#aws-java-sdk-kms;1.12.500 in central\n",
      "\tfound com.amazonaws#aws-java-sdk-core;1.12.500 in central\n",
      "\tfound commons-logging#commons-logging;1.1.3 in central\n",
      "\tfound commons-codec#commons-codec;1.15 in central\n",
      "\tfound org.apache.httpcomponents#httpclient;4.5.13 in central\n",
      "\tfound org.apache.httpcomponents#httpcore;4.4.13 in central\n",
      "\tfound software.amazon.ion#ion-java;1.0.2 in central\n",
      "\tfound joda-time#joda-time;2.8.1 in central\n",
      "\tfound com.amazonaws#jmespath-java;1.12.500 in central\n",
      "\tfound com.github.universal-automata#liblevenshtein;3.0.0 in central\n",
      "\tfound com.google.protobuf#protobuf-java-util;3.0.0-beta-3 in central\n",
      "\tfound com.google.protobuf#protobuf-java;3.0.0-beta-3 in central\n",
      "\tfound com.google.code.gson#gson;2.3 in central\n",
      "\tfound it.unimi.dsi#fastutil;7.0.12 in central\n",
      "\tfound org.projectlombok#lombok;1.16.8 in central\n",
      "\tfound com.google.cloud#google-cloud-storage;2.20.1 in central\n",
      "\tfound com.google.guava#guava;31.1-jre in central\n",
      "\tfound com.google.guava#failureaccess;1.0.1 in central\n",
      "\tfound com.google.guava#listenablefuture;9999.0-empty-to-avoid-conflict-with-guava in central\n",
      "\tfound com.google.errorprone#error_prone_annotations;2.18.0 in central\n",
      "\tfound com.google.j2objc#j2objc-annotations;1.3 in central\n",
      "\tfound com.google.http-client#google-http-client;1.43.0 in central\n",
      "\tfound io.opencensus#opencensus-contrib-http-util;0.31.1 in central\n",
      "\tfound com.google.http-client#google-http-client-jackson2;1.43.0 in central\n",
      "\tfound com.google.http-client#google-http-client-gson;1.43.0 in central\n",
      "\tfound com.google.api-client#google-api-client;2.2.0 in central\n",
      "\tfound com.google.oauth-client#google-oauth-client;1.34.1 in central\n",
      "\tfound com.google.http-client#google-http-client-apache-v2;1.43.0 in central\n",
      "\tfound com.google.apis#google-api-services-storage;v1-rev20220705-2.0.0 in central\n",
      "\tfound com.google.code.gson#gson;2.10.1 in central\n",
      "\tfound com.google.cloud#google-cloud-core;2.12.0 in central\n",
      "\tfound io.grpc#grpc-context;1.53.0 in central\n",
      "\tfound com.google.auto.value#auto-value-annotations;1.10.1 in central\n",
      "\tfound com.google.auto.value#auto-value;1.10.1 in central\n",
      "\tfound javax.annotation#javax.annotation-api;1.3.2 in central\n",
      "\tfound com.google.cloud#google-cloud-core-http;2.12.0 in central\n",
      "\tfound com.google.http-client#google-http-client-appengine;1.43.0 in central\n",
      "\tfound com.google.api#gax-httpjson;0.108.2 in central\n",
      "\tfound com.google.cloud#google-cloud-core-grpc;2.12.0 in central\n",
      "\tfound io.grpc#grpc-alts;1.53.0 in central\n",
      "\tfound io.grpc#grpc-grpclb;1.53.0 in central\n",
      "\tfound org.conscrypt#conscrypt-openjdk-uber;2.5.2 in central\n",
      "\tfound io.grpc#grpc-auth;1.53.0 in central\n",
      "\tfound io.grpc#grpc-protobuf;1.53.0 in central\n",
      "\tfound io.grpc#grpc-protobuf-lite;1.53.0 in central\n",
      "\tfound io.grpc#grpc-core;1.53.0 in central\n",
      "\tfound com.google.api#gax;2.23.2 in central\n",
      "\tfound com.google.api#gax-grpc;2.23.2 in central\n",
      "\tfound com.google.auth#google-auth-library-credentials;1.16.0 in central\n",
      "\tfound com.google.auth#google-auth-library-oauth2-http;1.16.0 in central\n",
      "\tfound com.google.api#api-common;2.6.2 in central\n",
      "\tfound io.opencensus#opencensus-api;0.31.1 in central\n",
      "\tfound com.google.api.grpc#proto-google-iam-v1;1.9.2 in central\n",
      "\tfound com.google.protobuf#protobuf-java;3.21.12 in central\n",
      "\tfound com.google.protobuf#protobuf-java-util;3.21.12 in central\n",
      "\tfound com.google.api.grpc#proto-google-common-protos;2.14.2 in central\n",
      "\tfound org.threeten#threetenbp;1.6.5 in central\n",
      "\tfound com.google.api.grpc#proto-google-cloud-storage-v2;2.20.1-alpha in central\n",
      "\tfound com.google.api.grpc#grpc-google-cloud-storage-v2;2.20.1-alpha in central\n",
      "\tfound com.google.api.grpc#gapic-google-cloud-storage-v2;2.20.1-alpha in central\n",
      "\tfound com.google.code.findbugs#jsr305;3.0.2 in central\n",
      "\tfound io.grpc#grpc-api;1.53.0 in central\n",
      "\tfound io.grpc#grpc-stub;1.53.0 in central\n",
      "\tfound org.checkerframework#checker-qual;3.31.0 in central\n",
      "\tfound io.perfmark#perfmark-api;0.26.0 in central\n",
      "\tfound com.google.android#annotations;4.1.1.4 in central\n",
      "\tfound org.codehaus.mojo#animal-sniffer-annotations;1.22 in central\n",
      "\tfound io.opencensus#opencensus-proto;0.2.0 in central\n",
      "\tfound io.grpc#grpc-services;1.53.0 in central\n",
      "\tfound com.google.re2j#re2j;1.6 in central\n",
      "\tfound io.grpc#grpc-netty-shaded;1.53.0 in central\n",
      "\tfound io.grpc#grpc-googleapis;1.53.0 in central\n",
      "\tfound io.grpc#grpc-xds;1.53.0 in central\n",
      "\tfound com.navigamez#greex;1.0 in central\n",
      "\tfound dk.brics.automaton#automaton;1.11-8 in central\n",
      "\tfound com.johnsnowlabs.nlp#tensorflow-cpu_2.12;0.4.4 in central\n",
      "\tfound com.microsoft.onnxruntime#onnxruntime;1.18.0 in central\n",
      "\tfound com.johnsnowlabs.nlp#jsl-openvino-cpu_2.12;0.1.0 in central\n",
      "downloading https://repo1.maven.org/maven2/com/johnsnowlabs/nlp/spark-nlp_2.12/5.4.0/spark-nlp_2.12-5.4.0.jar ...\n",
      "\t[SUCCESSFUL ] com.johnsnowlabs.nlp#spark-nlp_2.12;5.4.0!spark-nlp_2.12.jar (16437ms)\n",
      "downloading https://repo1.maven.org/maven2/com/typesafe/config/1.4.2/config-1.4.2.jar ...\n",
      "\t[SUCCESSFUL ] com.typesafe#config;1.4.2!config.jar(bundle) (370ms)\n",
      "downloading https://repo1.maven.org/maven2/org/rocksdb/rocksdbjni/6.29.5/rocksdbjni-6.29.5.jar ...\n",
      "\t[SUCCESSFUL ] org.rocksdb#rocksdbjni;6.29.5!rocksdbjni.jar (18488ms)\n",
      "downloading https://repo1.maven.org/maven2/com/amazonaws/aws-java-sdk-s3/1.12.500/aws-java-sdk-s3-1.12.500.jar ...\n",
      "\t[SUCCESSFUL ] com.amazonaws#aws-java-sdk-s3;1.12.500!aws-java-sdk-s3.jar (717ms)\n",
      "downloading https://repo1.maven.org/maven2/com/github/universal-automata/liblevenshtein/3.0.0/liblevenshtein-3.0.0.jar ...\n",
      "\t[SUCCESSFUL ] com.github.universal-automata#liblevenshtein;3.0.0!liblevenshtein.jar (324ms)\n",
      "downloading https://repo1.maven.org/maven2/com/google/cloud/google-cloud-storage/2.20.1/google-cloud-storage-2.20.1.jar ...\n",
      "\t[SUCCESSFUL ] com.google.cloud#google-cloud-storage;2.20.1!google-cloud-storage.jar (511ms)\n",
      "downloading https://repo1.maven.org/maven2/com/navigamez/greex/1.0/greex-1.0.jar ...\n",
      "\t[SUCCESSFUL ] com.navigamez#greex;1.0!greex.jar (270ms)\n",
      "downloading https://repo1.maven.org/maven2/com/johnsnowlabs/nlp/tensorflow-cpu_2.12/0.4.4/tensorflow-cpu_2.12-0.4.4.jar ...\n",
      "\t[SUCCESSFUL ] com.johnsnowlabs.nlp#tensorflow-cpu_2.12;0.4.4!tensorflow-cpu_2.12.jar (109968ms)\n",
      "downloading https://repo1.maven.org/maven2/com/microsoft/onnxruntime/onnxruntime/1.18.0/onnxruntime-1.18.0.jar ...\n",
      "\t[SUCCESSFUL ] com.microsoft.onnxruntime#onnxruntime;1.18.0!onnxruntime.jar (36585ms)\n",
      "downloading https://repo1.maven.org/maven2/com/johnsnowlabs/nlp/jsl-openvino-cpu_2.12/0.1.0/jsl-openvino-cpu_2.12-0.1.0.jar ...\n",
      "\t[SUCCESSFUL ] com.johnsnowlabs.nlp#jsl-openvino-cpu_2.12;0.1.0!jsl-openvino-cpu_2.12.jar (21652ms)\n",
      "downloading https://repo1.maven.org/maven2/com/amazonaws/aws-java-sdk-kms/1.12.500/aws-java-sdk-kms-1.12.500.jar ...\n",
      "\t[SUCCESSFUL ] com.amazonaws#aws-java-sdk-kms;1.12.500!aws-java-sdk-kms.jar (548ms)\n",
      "downloading https://repo1.maven.org/maven2/com/amazonaws/aws-java-sdk-core/1.12.500/aws-java-sdk-core-1.12.500.jar ...\n",
      "\t[SUCCESSFUL ] com.amazonaws#aws-java-sdk-core;1.12.500!aws-java-sdk-core.jar (678ms)\n",
      "downloading https://repo1.maven.org/maven2/com/amazonaws/jmespath-java/1.12.500/jmespath-java-1.12.500.jar ...\n",
      "\t[SUCCESSFUL ] com.amazonaws#jmespath-java;1.12.500!jmespath-java.jar (283ms)\n",
      "downloading https://repo1.maven.org/maven2/commons-logging/commons-logging/1.1.3/commons-logging-1.1.3.jar ...\n",
      "\t[SUCCESSFUL ] commons-logging#commons-logging;1.1.3!commons-logging.jar (288ms)\n",
      "downloading https://repo1.maven.org/maven2/commons-codec/commons-codec/1.15/commons-codec-1.15.jar ...\n",
      "\t[SUCCESSFUL ] commons-codec#commons-codec;1.15!commons-codec.jar (398ms)\n",
      "downloading https://repo1.maven.org/maven2/org/apache/httpcomponents/httpclient/4.5.13/httpclient-4.5.13.jar ...\n",
      "\t[SUCCESSFUL ] org.apache.httpcomponents#httpclient;4.5.13!httpclient.jar (572ms)\n",
      "downloading https://repo1.maven.org/maven2/software/amazon/ion/ion-java/1.0.2/ion-java-1.0.2.jar ...\n",
      "\t[SUCCESSFUL ] software.amazon.ion#ion-java;1.0.2!ion-java.jar(bundle) (476ms)\n",
      "downloading https://repo1.maven.org/maven2/joda-time/joda-time/2.8.1/joda-time-2.8.1.jar ...\n",
      "\t[SUCCESSFUL ] joda-time#joda-time;2.8.1!joda-time.jar (494ms)\n",
      "downloading https://repo1.maven.org/maven2/org/apache/httpcomponents/httpcore/4.4.13/httpcore-4.4.13.jar ...\n",
      "\t[SUCCESSFUL ] org.apache.httpcomponents#httpcore;4.4.13!httpcore.jar (395ms)\n",
      "downloading https://repo1.maven.org/maven2/it/unimi/dsi/fastutil/7.0.12/fastutil-7.0.12.jar ...\n",
      "\t[SUCCESSFUL ] it.unimi.dsi#fastutil;7.0.12!fastutil.jar (7057ms)\n",
      "downloading https://repo1.maven.org/maven2/org/projectlombok/lombok/1.16.8/lombok-1.16.8.jar ...\n",
      "\t[SUCCESSFUL ] org.projectlombok#lombok;1.16.8!lombok.jar (792ms)\n",
      "downloading https://repo1.maven.org/maven2/com/google/guava/guava/31.1-jre/guava-31.1-jre.jar ...\n",
      "\t[SUCCESSFUL ] com.google.guava#guava;31.1-jre!guava.jar(bundle) (1490ms)\n",
      "downloading https://repo1.maven.org/maven2/com/google/guava/failureaccess/1.0.1/failureaccess-1.0.1.jar ...\n",
      "\t[SUCCESSFUL ] com.google.guava#failureaccess;1.0.1!failureaccess.jar(bundle) (267ms)\n",
      "downloading https://repo1.maven.org/maven2/com/google/guava/listenablefuture/9999.0-empty-to-avoid-conflict-with-guava/listenablefuture-9999.0-empty-to-avoid-conflict-with-guava.jar ...\n",
      "\t[SUCCESSFUL ] com.google.guava#listenablefuture;9999.0-empty-to-avoid-conflict-with-guava!listenablefuture.jar (319ms)\n",
      "downloading https://repo1.maven.org/maven2/com/google/errorprone/error_prone_annotations/2.18.0/error_prone_annotations-2.18.0.jar ...\n",
      "\t[SUCCESSFUL ] com.google.errorprone#error_prone_annotations;2.18.0!error_prone_annotations.jar (283ms)\n",
      "downloading https://repo1.maven.org/maven2/com/google/j2objc/j2objc-annotations/1.3/j2objc-annotations-1.3.jar ...\n",
      "\t[SUCCESSFUL ] com.google.j2objc#j2objc-annotations;1.3!j2objc-annotations.jar (296ms)\n",
      "downloading https://repo1.maven.org/maven2/com/google/http-client/google-http-client/1.43.0/google-http-client-1.43.0.jar ...\n",
      "\t[SUCCESSFUL ] com.google.http-client#google-http-client;1.43.0!google-http-client.jar (476ms)\n",
      "downloading https://repo1.maven.org/maven2/io/opencensus/opencensus-contrib-http-util/0.31.1/opencensus-contrib-http-util-0.31.1.jar ...\n",
      "\t[SUCCESSFUL ] io.opencensus#opencensus-contrib-http-util;0.31.1!opencensus-contrib-http-util.jar (278ms)\n",
      "downloading https://repo1.maven.org/maven2/com/google/http-client/google-http-client-jackson2/1.43.0/google-http-client-jackson2-1.43.0.jar ...\n",
      "\t[SUCCESSFUL ] com.google.http-client#google-http-client-jackson2;1.43.0!google-http-client-jackson2.jar (423ms)\n",
      "downloading https://repo1.maven.org/maven2/com/google/http-client/google-http-client-gson/1.43.0/google-http-client-gson-1.43.0.jar ...\n",
      "\t[SUCCESSFUL ] com.google.http-client#google-http-client-gson;1.43.0!google-http-client-gson.jar (305ms)\n",
      "downloading https://repo1.maven.org/maven2/com/google/api-client/google-api-client/2.2.0/google-api-client-2.2.0.jar ...\n",
      "\t[SUCCESSFUL ] com.google.api-client#google-api-client;2.2.0!google-api-client.jar (384ms)\n",
      "downloading https://repo1.maven.org/maven2/com/google/oauth-client/google-oauth-client/1.34.1/google-oauth-client-1.34.1.jar ...\n",
      "\t[SUCCESSFUL ] com.google.oauth-client#google-oauth-client;1.34.1!google-oauth-client.jar (301ms)\n",
      "downloading https://repo1.maven.org/maven2/com/google/http-client/google-http-client-apache-v2/1.43.0/google-http-client-apache-v2-1.43.0.jar ...\n",
      "\t[SUCCESSFUL ] com.google.http-client#google-http-client-apache-v2;1.43.0!google-http-client-apache-v2.jar (317ms)\n",
      "downloading https://repo1.maven.org/maven2/com/google/apis/google-api-services-storage/v1-rev20220705-2.0.0/google-api-services-storage-v1-rev20220705-2.0.0.jar ...\n",
      "\t[SUCCESSFUL ] com.google.apis#google-api-services-storage;v1-rev20220705-2.0.0!google-api-services-storage.jar (356ms)\n",
      "downloading https://repo1.maven.org/maven2/com/google/code/gson/gson/2.10.1/gson-2.10.1.jar ...\n",
      "\t[SUCCESSFUL ] com.google.code.gson#gson;2.10.1!gson.jar (397ms)\n",
      "downloading https://repo1.maven.org/maven2/com/google/cloud/google-cloud-core/2.12.0/google-cloud-core-2.12.0.jar ...\n",
      "\t[SUCCESSFUL ] com.google.cloud#google-cloud-core;2.12.0!google-cloud-core.jar (350ms)\n",
      "downloading https://repo1.maven.org/maven2/io/grpc/grpc-context/1.53.0/grpc-context-1.53.0.jar ...\n",
      "\t[SUCCESSFUL ] io.grpc#grpc-context;1.53.0!grpc-context.jar (293ms)\n",
      "downloading https://repo1.maven.org/maven2/com/google/auto/value/auto-value-annotations/1.10.1/auto-value-annotations-1.10.1.jar ...\n",
      "\t[SUCCESSFUL ] com.google.auto.value#auto-value-annotations;1.10.1!auto-value-annotations.jar (295ms)\n",
      "downloading https://repo1.maven.org/maven2/com/google/auto/value/auto-value/1.10.1/auto-value-1.10.1.jar ...\n",
      "\t[SUCCESSFUL ] com.google.auto.value#auto-value;1.10.1!auto-value.jar (3004ms)\n",
      "downloading https://repo1.maven.org/maven2/javax/annotation/javax.annotation-api/1.3.2/javax.annotation-api-1.3.2.jar ...\n",
      "\t[SUCCESSFUL ] javax.annotation#javax.annotation-api;1.3.2!javax.annotation-api.jar (279ms)\n",
      "downloading https://repo1.maven.org/maven2/com/google/cloud/google-cloud-core-http/2.12.0/google-cloud-core-http-2.12.0.jar ...\n",
      "\t[SUCCESSFUL ] com.google.cloud#google-cloud-core-http;2.12.0!google-cloud-core-http.jar (296ms)\n",
      "downloading https://repo1.maven.org/maven2/com/google/http-client/google-http-client-appengine/1.43.0/google-http-client-appengine-1.43.0.jar ...\n",
      "\t[SUCCESSFUL ] com.google.http-client#google-http-client-appengine;1.43.0!google-http-client-appengine.jar (275ms)\n",
      "downloading https://repo1.maven.org/maven2/com/google/api/gax-httpjson/0.108.2/gax-httpjson-0.108.2.jar ...\n",
      "\t[SUCCESSFUL ] com.google.api#gax-httpjson;0.108.2!gax-httpjson.jar (336ms)\n",
      "downloading https://repo1.maven.org/maven2/com/google/cloud/google-cloud-core-grpc/2.12.0/google-cloud-core-grpc-2.12.0.jar ...\n",
      "\t[SUCCESSFUL ] com.google.cloud#google-cloud-core-grpc;2.12.0!google-cloud-core-grpc.jar (283ms)\n",
      "downloading https://repo1.maven.org/maven2/io/grpc/grpc-alts/1.53.0/grpc-alts-1.53.0.jar ...\n",
      "\t[SUCCESSFUL ] io.grpc#grpc-alts;1.53.0!grpc-alts.jar (393ms)\n",
      "downloading https://repo1.maven.org/maven2/io/grpc/grpc-grpclb/1.53.0/grpc-grpclb-1.53.0.jar ...\n",
      "\t[SUCCESSFUL ] io.grpc#grpc-grpclb;1.53.0!grpc-grpclb.jar (346ms)\n",
      "downloading https://repo1.maven.org/maven2/org/conscrypt/conscrypt-openjdk-uber/2.5.2/conscrypt-openjdk-uber-2.5.2.jar ...\n",
      "\t[SUCCESSFUL ] org.conscrypt#conscrypt-openjdk-uber;2.5.2!conscrypt-openjdk-uber.jar (2579ms)\n",
      "downloading https://repo1.maven.org/maven2/io/grpc/grpc-auth/1.53.0/grpc-auth-1.53.0.jar ...\n",
      "\t[SUCCESSFUL ] io.grpc#grpc-auth;1.53.0!grpc-auth.jar (286ms)\n",
      "downloading https://repo1.maven.org/maven2/io/grpc/grpc-protobuf/1.53.0/grpc-protobuf-1.53.0.jar ...\n",
      "\t[SUCCESSFUL ] io.grpc#grpc-protobuf;1.53.0!grpc-protobuf.jar (267ms)\n",
      "downloading https://repo1.maven.org/maven2/io/grpc/grpc-protobuf-lite/1.53.0/grpc-protobuf-lite-1.53.0.jar ...\n",
      "\t[SUCCESSFUL ] io.grpc#grpc-protobuf-lite;1.53.0!grpc-protobuf-lite.jar (274ms)\n",
      "downloading https://repo1.maven.org/maven2/io/grpc/grpc-core/1.53.0/grpc-core-1.53.0.jar ...\n",
      "\t[SUCCESSFUL ] io.grpc#grpc-core;1.53.0!grpc-core.jar (757ms)\n",
      "downloading https://repo1.maven.org/maven2/com/google/api/gax/2.23.2/gax-2.23.2.jar ...\n",
      "\t[SUCCESSFUL ] com.google.api#gax;2.23.2!gax.jar (462ms)\n",
      "downloading https://repo1.maven.org/maven2/com/google/api/gax-grpc/2.23.2/gax-grpc-2.23.2.jar ...\n",
      "\t[SUCCESSFUL ] com.google.api#gax-grpc;2.23.2!gax-grpc.jar (331ms)\n",
      "downloading https://repo1.maven.org/maven2/com/google/auth/google-auth-library-credentials/1.16.0/google-auth-library-credentials-1.16.0.jar ...\n",
      "\t[SUCCESSFUL ] com.google.auth#google-auth-library-credentials;1.16.0!google-auth-library-credentials.jar (274ms)\n",
      "downloading https://repo1.maven.org/maven2/com/google/auth/google-auth-library-oauth2-http/1.16.0/google-auth-library-oauth2-http-1.16.0.jar ...\n",
      "\t[SUCCESSFUL ] com.google.auth#google-auth-library-oauth2-http;1.16.0!google-auth-library-oauth2-http.jar (390ms)\n",
      "downloading https://repo1.maven.org/maven2/com/google/api/api-common/2.6.2/api-common-2.6.2.jar ...\n",
      "\t[SUCCESSFUL ] com.google.api#api-common;2.6.2!api-common.jar (294ms)\n",
      "downloading https://repo1.maven.org/maven2/io/opencensus/opencensus-api/0.31.1/opencensus-api-0.31.1.jar ...\n",
      "\t[SUCCESSFUL ] io.opencensus#opencensus-api;0.31.1!opencensus-api.jar (451ms)\n",
      "downloading https://repo1.maven.org/maven2/com/google/api/grpc/proto-google-iam-v1/1.9.2/proto-google-iam-v1-1.9.2.jar ...\n",
      "\t[SUCCESSFUL ] com.google.api.grpc#proto-google-iam-v1;1.9.2!proto-google-iam-v1.jar (348ms)\n",
      "downloading https://repo1.maven.org/maven2/com/google/protobuf/protobuf-java/3.21.12/protobuf-java-3.21.12.jar ...\n",
      "\t[SUCCESSFUL ] com.google.protobuf#protobuf-java;3.21.12!protobuf-java.jar(bundle) (1095ms)\n",
      "downloading https://repo1.maven.org/maven2/com/google/protobuf/protobuf-java-util/3.21.12/protobuf-java-util-3.21.12.jar ...\n",
      "\t[SUCCESSFUL ] com.google.protobuf#protobuf-java-util;3.21.12!protobuf-java-util.jar(bundle) (304ms)\n",
      "downloading https://repo1.maven.org/maven2/com/google/api/grpc/proto-google-common-protos/2.14.2/proto-google-common-protos-2.14.2.jar ...\n",
      "\t[SUCCESSFUL ] com.google.api.grpc#proto-google-common-protos;2.14.2!proto-google-common-protos.jar (1197ms)\n",
      "downloading https://repo1.maven.org/maven2/org/threeten/threetenbp/1.6.5/threetenbp-1.6.5.jar ...\n",
      "\t[SUCCESSFUL ] org.threeten#threetenbp;1.6.5!threetenbp.jar (518ms)\n",
      "downloading https://repo1.maven.org/maven2/com/google/api/grpc/proto-google-cloud-storage-v2/2.20.1-alpha/proto-google-cloud-storage-v2-2.20.1-alpha.jar ...\n",
      "\t[SUCCESSFUL ] com.google.api.grpc#proto-google-cloud-storage-v2;2.20.1-alpha!proto-google-cloud-storage-v2.jar (727ms)\n",
      "downloading https://repo1.maven.org/maven2/com/google/api/grpc/grpc-google-cloud-storage-v2/2.20.1-alpha/grpc-google-cloud-storage-v2-2.20.1-alpha.jar ...\n",
      "\t[SUCCESSFUL ] com.google.api.grpc#grpc-google-cloud-storage-v2;2.20.1-alpha!grpc-google-cloud-storage-v2.jar (284ms)\n",
      "downloading https://repo1.maven.org/maven2/com/google/api/grpc/gapic-google-cloud-storage-v2/2.20.1-alpha/gapic-google-cloud-storage-v2-2.20.1-alpha.jar ...\n",
      "\t[SUCCESSFUL ] com.google.api.grpc#gapic-google-cloud-storage-v2;2.20.1-alpha!gapic-google-cloud-storage-v2.jar (308ms)\n",
      "downloading https://repo1.maven.org/maven2/com/google/code/findbugs/jsr305/3.0.2/jsr305-3.0.2.jar ...\n",
      "\t[SUCCESSFUL ] com.google.code.findbugs#jsr305;3.0.2!jsr305.jar (281ms)\n",
      "downloading https://repo1.maven.org/maven2/io/grpc/grpc-api/1.53.0/grpc-api-1.53.0.jar ...\n",
      "\t[SUCCESSFUL ] io.grpc#grpc-api;1.53.0!grpc-api.jar (394ms)\n",
      "downloading https://repo1.maven.org/maven2/io/grpc/grpc-stub/1.53.0/grpc-stub-1.53.0.jar ...\n",
      "\t[SUCCESSFUL ] io.grpc#grpc-stub;1.53.0!grpc-stub.jar (296ms)\n",
      "downloading https://repo1.maven.org/maven2/org/checkerframework/checker-qual/3.31.0/checker-qual-3.31.0.jar ...\n",
      "\t[SUCCESSFUL ] org.checkerframework#checker-qual;3.31.0!checker-qual.jar (371ms)\n",
      "downloading https://repo1.maven.org/maven2/io/perfmark/perfmark-api/0.26.0/perfmark-api-0.26.0.jar ...\n",
      "\t[SUCCESSFUL ] io.perfmark#perfmark-api;0.26.0!perfmark-api.jar (274ms)\n",
      "downloading https://repo1.maven.org/maven2/com/google/android/annotations/4.1.1.4/annotations-4.1.1.4.jar ...\n",
      "\t[SUCCESSFUL ] com.google.android#annotations;4.1.1.4!annotations.jar (270ms)\n",
      "downloading https://repo1.maven.org/maven2/org/codehaus/mojo/animal-sniffer-annotations/1.22/animal-sniffer-annotations-1.22.jar ...\n",
      "\t[SUCCESSFUL ] org.codehaus.mojo#animal-sniffer-annotations;1.22!animal-sniffer-annotations.jar (270ms)\n",
      "downloading https://repo1.maven.org/maven2/io/opencensus/opencensus-proto/0.2.0/opencensus-proto-0.2.0.jar ...\n",
      "\t[SUCCESSFUL ] io.opencensus#opencensus-proto;0.2.0!opencensus-proto.jar (635ms)\n",
      "downloading https://repo1.maven.org/maven2/io/grpc/grpc-services/1.53.0/grpc-services-1.53.0.jar ...\n",
      "\t[SUCCESSFUL ] io.grpc#grpc-services;1.53.0!grpc-services.jar (660ms)\n",
      "downloading https://repo1.maven.org/maven2/com/google/re2j/re2j/1.6/re2j-1.6.jar ...\n",
      "\t[SUCCESSFUL ] com.google.re2j#re2j;1.6!re2j.jar (313ms)\n",
      "downloading https://repo1.maven.org/maven2/io/grpc/grpc-netty-shaded/1.53.0/grpc-netty-shaded-1.53.0.jar ...\n",
      "\t[SUCCESSFUL ] io.grpc#grpc-netty-shaded;1.53.0!grpc-netty-shaded.jar (4689ms)\n",
      "downloading https://repo1.maven.org/maven2/io/grpc/grpc-googleapis/1.53.0/grpc-googleapis-1.53.0.jar ...\n",
      "\t[SUCCESSFUL ] io.grpc#grpc-googleapis;1.53.0!grpc-googleapis.jar (276ms)\n",
      "downloading https://repo1.maven.org/maven2/io/grpc/grpc-xds/1.53.0/grpc-xds-1.53.0.jar ...\n",
      "\t[SUCCESSFUL ] io.grpc#grpc-xds;1.53.0!grpc-xds.jar (6203ms)\n",
      "downloading https://repo1.maven.org/maven2/dk/brics/automaton/automaton/1.11-8/automaton-1.11-8.jar ...\n",
      "\t[SUCCESSFUL ] dk.brics.automaton#automaton;1.11-8!automaton.jar (355ms)\n",
      ":: resolution report :: resolve 86364ms :: artifacts dl 256063ms\n",
      "\t:: modules in use:\n",
      "\tcom.amazonaws#aws-java-sdk-core;1.12.500 from central in [default]\n",
      "\tcom.amazonaws#aws-java-sdk-kms;1.12.500 from central in [default]\n",
      "\tcom.amazonaws#aws-java-sdk-s3;1.12.500 from central in [default]\n",
      "\tcom.amazonaws#jmespath-java;1.12.500 from central in [default]\n",
      "\tcom.github.universal-automata#liblevenshtein;3.0.0 from central in [default]\n",
      "\tcom.google.android#annotations;4.1.1.4 from central in [default]\n",
      "\tcom.google.api#api-common;2.6.2 from central in [default]\n",
      "\tcom.google.api#gax;2.23.2 from central in [default]\n",
      "\tcom.google.api#gax-grpc;2.23.2 from central in [default]\n",
      "\tcom.google.api#gax-httpjson;0.108.2 from central in [default]\n",
      "\tcom.google.api-client#google-api-client;2.2.0 from central in [default]\n",
      "\tcom.google.api.grpc#gapic-google-cloud-storage-v2;2.20.1-alpha from central in [default]\n",
      "\tcom.google.api.grpc#grpc-google-cloud-storage-v2;2.20.1-alpha from central in [default]\n",
      "\tcom.google.api.grpc#proto-google-cloud-storage-v2;2.20.1-alpha from central in [default]\n",
      "\tcom.google.api.grpc#proto-google-common-protos;2.14.2 from central in [default]\n",
      "\tcom.google.api.grpc#proto-google-iam-v1;1.9.2 from central in [default]\n",
      "\tcom.google.apis#google-api-services-storage;v1-rev20220705-2.0.0 from central in [default]\n",
      "\tcom.google.auth#google-auth-library-credentials;1.16.0 from central in [default]\n",
      "\tcom.google.auth#google-auth-library-oauth2-http;1.16.0 from central in [default]\n",
      "\tcom.google.auto.value#auto-value;1.10.1 from central in [default]\n",
      "\tcom.google.auto.value#auto-value-annotations;1.10.1 from central in [default]\n",
      "\tcom.google.cloud#google-cloud-core;2.12.0 from central in [default]\n",
      "\tcom.google.cloud#google-cloud-core-grpc;2.12.0 from central in [default]\n",
      "\tcom.google.cloud#google-cloud-core-http;2.12.0 from central in [default]\n",
      "\tcom.google.cloud#google-cloud-storage;2.20.1 from central in [default]\n",
      "\tcom.google.code.findbugs#jsr305;3.0.2 from central in [default]\n",
      "\tcom.google.code.gson#gson;2.10.1 from central in [default]\n",
      "\tcom.google.errorprone#error_prone_annotations;2.18.0 from central in [default]\n",
      "\tcom.google.guava#failureaccess;1.0.1 from central in [default]\n",
      "\tcom.google.guava#guava;31.1-jre from central in [default]\n",
      "\tcom.google.guava#listenablefuture;9999.0-empty-to-avoid-conflict-with-guava from central in [default]\n",
      "\tcom.google.http-client#google-http-client;1.43.0 from central in [default]\n",
      "\tcom.google.http-client#google-http-client-apache-v2;1.43.0 from central in [default]\n",
      "\tcom.google.http-client#google-http-client-appengine;1.43.0 from central in [default]\n",
      "\tcom.google.http-client#google-http-client-gson;1.43.0 from central in [default]\n",
      "\tcom.google.http-client#google-http-client-jackson2;1.43.0 from central in [default]\n",
      "\tcom.google.j2objc#j2objc-annotations;1.3 from central in [default]\n",
      "\tcom.google.oauth-client#google-oauth-client;1.34.1 from central in [default]\n",
      "\tcom.google.protobuf#protobuf-java;3.21.12 from central in [default]\n",
      "\tcom.google.protobuf#protobuf-java-util;3.21.12 from central in [default]\n",
      "\tcom.google.re2j#re2j;1.6 from central in [default]\n",
      "\tcom.johnsnowlabs.nlp#jsl-openvino-cpu_2.12;0.1.0 from central in [default]\n",
      "\tcom.johnsnowlabs.nlp#spark-nlp_2.12;5.4.0 from central in [default]\n",
      "\tcom.johnsnowlabs.nlp#tensorflow-cpu_2.12;0.4.4 from central in [default]\n",
      "\tcom.microsoft.onnxruntime#onnxruntime;1.18.0 from central in [default]\n",
      "\tcom.navigamez#greex;1.0 from central in [default]\n",
      "\tcom.typesafe#config;1.4.2 from central in [default]\n",
      "\tcommons-codec#commons-codec;1.15 from central in [default]\n",
      "\tcommons-logging#commons-logging;1.1.3 from central in [default]\n",
      "\tdk.brics.automaton#automaton;1.11-8 from central in [default]\n",
      "\tio.grpc#grpc-alts;1.53.0 from central in [default]\n",
      "\tio.grpc#grpc-api;1.53.0 from central in [default]\n",
      "\tio.grpc#grpc-auth;1.53.0 from central in [default]\n",
      "\tio.grpc#grpc-context;1.53.0 from central in [default]\n",
      "\tio.grpc#grpc-core;1.53.0 from central in [default]\n",
      "\tio.grpc#grpc-googleapis;1.53.0 from central in [default]\n",
      "\tio.grpc#grpc-grpclb;1.53.0 from central in [default]\n",
      "\tio.grpc#grpc-netty-shaded;1.53.0 from central in [default]\n",
      "\tio.grpc#grpc-protobuf;1.53.0 from central in [default]\n",
      "\tio.grpc#grpc-protobuf-lite;1.53.0 from central in [default]\n",
      "\tio.grpc#grpc-services;1.53.0 from central in [default]\n",
      "\tio.grpc#grpc-stub;1.53.0 from central in [default]\n",
      "\tio.grpc#grpc-xds;1.53.0 from central in [default]\n",
      "\tio.opencensus#opencensus-api;0.31.1 from central in [default]\n",
      "\tio.opencensus#opencensus-contrib-http-util;0.31.1 from central in [default]\n",
      "\tio.opencensus#opencensus-proto;0.2.0 from central in [default]\n",
      "\tio.perfmark#perfmark-api;0.26.0 from central in [default]\n",
      "\tit.unimi.dsi#fastutil;7.0.12 from central in [default]\n",
      "\tjavax.annotation#javax.annotation-api;1.3.2 from central in [default]\n",
      "\tjoda-time#joda-time;2.8.1 from central in [default]\n",
      "\torg.apache.httpcomponents#httpclient;4.5.13 from central in [default]\n",
      "\torg.apache.httpcomponents#httpcore;4.4.13 from central in [default]\n",
      "\torg.checkerframework#checker-qual;3.31.0 from central in [default]\n",
      "\torg.codehaus.mojo#animal-sniffer-annotations;1.22 from central in [default]\n",
      "\torg.conscrypt#conscrypt-openjdk-uber;2.5.2 from central in [default]\n",
      "\torg.projectlombok#lombok;1.16.8 from central in [default]\n",
      "\torg.rocksdb#rocksdbjni;6.29.5 from central in [default]\n",
      "\torg.threeten#threetenbp;1.6.5 from central in [default]\n",
      "\tsoftware.amazon.ion#ion-java;1.0.2 from central in [default]\n",
      "\t:: evicted modules:\n",
      "\tcommons-logging#commons-logging;1.2 by [commons-logging#commons-logging;1.1.3] in [default]\n",
      "\tcommons-codec#commons-codec;1.11 by [commons-codec#commons-codec;1.15] in [default]\n",
      "\tcom.google.protobuf#protobuf-java-util;3.0.0-beta-3 by [com.google.protobuf#protobuf-java-util;3.21.12] in [default]\n",
      "\tcom.google.protobuf#protobuf-java;3.0.0-beta-3 by [com.google.protobuf#protobuf-java;3.21.12] in [default]\n",
      "\tcom.google.code.gson#gson;2.3 by [com.google.code.gson#gson;2.10.1] in [default]\n",
      "\t---------------------------------------------------------------------\n",
      "\t|                  |            modules            ||   artifacts   |\n",
      "\t|       conf       | number| search|dwnlded|evicted|| number|dwnlded|\n",
      "\t---------------------------------------------------------------------\n",
      "\t|      default     |   84  |   82  |   82  |   5   ||   79  |   79  |\n",
      "\t---------------------------------------------------------------------\n",
      ":: retrieving :: org.apache.spark#spark-submit-parent-f073322f-79e0-456f-9354-a94835d40390\n",
      "\tconfs: [default]\n",
      "\t79 artifacts copied, 0 already retrieved (590511kB/6331ms)\n",
      "24/07/01 19:12:33 WARN NativeCodeLoader: Unable to load native-hadoop library for your platform... using builtin-java classes where applicable\n",
      "Setting default log level to \"WARN\".\n",
      "To adjust logging level use sc.setLogLevel(newLevel). For SparkR, use setLogLevel(newLevel).\n"
     ]
    },
    {
     "name": "stdout",
     "output_type": "stream",
     "text": [
      "Spark NLP version 5.4.0\n",
      "Apache Spark version: 3.5.1\n"
     ]
    },
    {
     "data": {
      "text/html": [
       "\n",
       "            <div>\n",
       "                <p><b>SparkSession - in-memory</b></p>\n",
       "                \n",
       "        <div>\n",
       "            <p><b>SparkContext</b></p>\n",
       "\n",
       "            <p><a href=\"http://192.168.0.17:4040\">Spark UI</a></p>\n",
       "\n",
       "            <dl>\n",
       "              <dt>Version</dt>\n",
       "                <dd><code>v3.5.1</code></dd>\n",
       "              <dt>Master</dt>\n",
       "                <dd><code>local[*]</code></dd>\n",
       "              <dt>AppName</dt>\n",
       "                <dd><code>Spark NLP</code></dd>\n",
       "            </dl>\n",
       "        </div>\n",
       "        \n",
       "            </div>\n",
       "        "
      ],
      "text/plain": [
       "<pyspark.sql.session.SparkSession at 0x117ae5a30>"
      ]
     },
     "execution_count": 7,
     "metadata": {},
     "output_type": "execute_result"
    }
   ],
   "source": [
    "import sparknlp\n",
    "\n",
    "from pyspark.ml import PipelineModel\n",
    "from sparknlp.annotator import *\n",
    "from sparknlp.base import *\n",
    "\n",
    "spark = sparknlp.start() # for GPU training >> sparknlp.start(gpu = True) # for Spark 2.3 =>> sparknlp.start(spark23 = True)\n",
    "\n",
    "print(\"Spark NLP version\", sparknlp.version())\n",
    "print(\"Apache Spark version:\", spark.version)\n",
    "\n",
    "spark"
   ]
  },
  {
   "cell_type": "code",
   "execution_count": 9,
   "metadata": {},
   "outputs": [],
   "source": [
    "stopwords = StopWordsCleaner().getStopWords()\n",
    "\n",
    "document = DocumentAssembler() \\\n",
    "            .setInputCol(\"text\") \\\n",
    "            .setOutputCol(\"document\")\n",
    "\n",
    "sentenceDetector = SentenceDetector() \\\n",
    "            .setInputCols(\"document\") \\\n",
    "            .setOutputCol(\"sentence\")\n",
    "\n",
    "token = Tokenizer() \\\n",
    "            .setInputCols(\"sentence\") \\\n",
    "            .setOutputCol(\"token\") \\\n",
    "            .setContextChars([\"(\", \")\", \"?\", \"!\", \".\", \",\"])\n",
    "\n",
    "keywords = YakeKeywordExtraction() \\\n",
    "            .setInputCols(\"token\") \\\n",
    "            .setOutputCol(\"keywords\") \\\n",
    "            .setMinNGrams(1) \\\n",
    "            .setMaxNGrams(3)\\\n",
    "            .setNKeywords(20)\\\n",
    "            .setStopWords(stopwords)\n",
    "\n",
    "yake_pipeline = Pipeline(stages=[document, sentenceDetector, token, keywords])\n",
    "\n",
    "empty_df = spark.createDataFrame([['']]).toDF(\"text\")\n",
    "\n",
    "yake_Model = yake_pipeline.fit(empty_df)\n",
    "\n"
   ]
  },
  {
   "cell_type": "code",
   "execution_count": 12,
   "metadata": {},
   "outputs": [
    {
     "data": {
      "text/plain": [
       "[('0',\n",
       "  'Insects are one of the most abundant and diverse forms of life on the planet, representing about 80% of all known animal species.'),\n",
       " ('1',\n",
       "  'They can be found in nearly every environment, from the depths of caves to the peaks of the highest mountains, and they play crucial roles in ecosystems as pollinators, decomposers, and as fundamental parts of food chains.'),\n",
       " ('2',\n",
       "  'The class Insecta is divided into various groups, including butterflies, bees, ants, beetles, flies, and many others.'),\n",
       " ('3',\n",
       "  'Each group has unique characteristics that allow them to survive and thrive in their respective habitats.'),\n",
       " ('4',\n",
       "  'For example, butterflies are known for their colorful wings and migration patterns, while ants are notorious for their highly organized and complex societies.'),\n",
       " ('5',\n",
       "  'Insects have a segmented body divided into three main parts: head, thorax, and abdomen.'),\n",
       " ('6',\n",
       "  'The head usually has antennae, compound eyes, and mouthparts adapted to different types of feeding.'),\n",
       " ('7',\n",
       "  'The thorax is where the wings and legs are located, allowing for efficient locomotion.'),\n",
       " ('8',\n",
       "  'The abdomen houses many of the internal organs, such as the digestive and reproductive systems.'),\n",
       " ('9',\n",
       "  'The ability to fly is one of the most significant evolutionary innovations of insects.'),\n",
       " ('10',\n",
       "  'Wings have allowed many insects to colonize new habitats, escape predators, and seek food more efficiently.'),\n",
       " ('11',\n",
       "  'Bees, for example, are essential pollinators for many flowering plants, including several agricultural crops important to humanity.'),\n",
       " ('12',\n",
       "  'Insects also play a vital role in the decomposition of organic matter.'),\n",
       " ('13',\n",
       "  'Beetles, flies, and ants help break down plant and animal remains, recycling nutrients back into the soil.'),\n",
       " ('14',\n",
       "  'This process is fundamental for the health of ecosystems, as it maintains the nutrient cycle and promotes the growth of new plants.'),\n",
       " ('15', 'However, not all insects are beneficial to humans.'),\n",
       " ('16',\n",
       "  'Some are considered pests, such as locusts, which can devastate crops, and mosquitoes, which are vectors of diseases like malaria, dengue, and Zika.'),\n",
       " ('17',\n",
       "  'Controlling these pests is an ongoing challenge and requires a balance between protecting human health and preserving natural ecosystems.'),\n",
       " ('18',\n",
       "  'The diversity of forms, colors, and behaviors of insects is impressive.'),\n",
       " ('19',\n",
       "  'Some, like the praying mantis, are masters of camouflage, mimicking leaves and branches to hide from predators or ambush prey.'),\n",
       " ('20',\n",
       "  'Others, like fireflies, produce their own light through a process called bioluminescence, used to attract mates or disorient predators.'),\n",
       " ('21',\n",
       "  'The study of insects, known as entomology, has a long history and continues to be a dynamic field of research.'),\n",
       " ('22',\n",
       "  'Entomologists investigate everything from the ecology and evolution of insects to their interactions with other organisms and their impact on human environments.'),\n",
       " ('23',\n",
       "  'This research has practical applications in areas such as agriculture, medicine, and conservation.'),\n",
       " ('24',\n",
       "  'Recently, concern about the decline of insect populations has been growing.'),\n",
       " ('25',\n",
       "  'Factors such as habitat loss, pesticide use, pollution, and climate change are contributing to the reduction of many insect species populations.'),\n",
       " ('26',\n",
       "  'This decline can have severe consequences for ecosystems and food production, given the essential role of insects in pollination and decomposition.'),\n",
       " ('27',\n",
       "  'To ensure the conservation of insects, it is crucial to promote sustainable and conscious practices that protect their natural habitats and minimize the negative impacts of human activities.'),\n",
       " ('28',\n",
       "  'Education and awareness about the importance of insects can help foster greater appreciation and protection of these small but vital inhabitants of our planet.')]"
      ]
     },
     "execution_count": 12,
     "metadata": {},
     "output_type": "execute_result"
    }
   ],
   "source": [
    "# LightPipeline\n",
    "\n",
    "light_model = LightPipeline(yake_Model)\n",
    "\n",
    "text = 'Insects are one of the most abundant and diverse forms of life on the planet, representing about 80% of all known animal species. They can be found in nearly every environment, from the depths of caves to the peaks of the highest mountains, and they play crucial roles in ecosystems as pollinators, decomposers, and as fundamental parts of food chains. The class Insecta is divided into various groups, including butterflies, bees, ants, beetles, flies, and many others. Each group has unique characteristics that allow them to survive and thrive in their respective habitats. For example, butterflies are known for their colorful wings and migration patterns, while ants are notorious for their highly organized and complex societies. Insects have a segmented body divided into three main parts: head, thorax, and abdomen. The head usually has antennae, compound eyes, and mouthparts adapted to different types of feeding. The thorax is where the wings and legs are located, allowing for efficient locomotion. The abdomen houses many of the internal organs, such as the digestive and reproductive systems. The ability to fly is one of the most significant evolutionary innovations of insects. Wings have allowed many insects to colonize new habitats, escape predators, and seek food more efficiently. Bees, for example, are essential pollinators for many flowering plants, including several agricultural crops important to humanity. Insects also play a vital role in the decomposition of organic matter. Beetles, flies, and ants help break down plant and animal remains, recycling nutrients back into the soil. This process is fundamental for the health of ecosystems, as it maintains the nutrient cycle and promotes the growth of new plants. However, not all insects are beneficial to humans. Some are considered pests, such as locusts, which can devastate crops, and mosquitoes, which are vectors of diseases like malaria, dengue, and Zika. Controlling these pests is an ongoing challenge and requires a balance between protecting human health and preserving natural ecosystems. The diversity of forms, colors, and behaviors of insects is impressive. Some, like the praying mantis, are masters of camouflage, mimicking leaves and branches to hide from predators or ambush prey. Others, like fireflies, produce their own light through a process called bioluminescence, used to attract mates or disorient predators. The study of insects, known as entomology, has a long history and continues to be a dynamic field of research. Entomologists investigate everything from the ecology and evolution of insects to their interactions with other organisms and their impact on human environments. This research has practical applications in areas such as agriculture, medicine, and conservation. Recently, concern about the decline of insect populations has been growing. Factors such as habitat loss, pesticide use, pollution, and climate change are contributing to the reduction of many insect species populations. This decline can have severe consequences for ecosystems and food production, given the essential role of insects in pollination and decomposition. To ensure the conservation of insects, it is crucial to promote sustainable and conscious practices that protect their natural habitats and minimize the negative impacts of human activities. Education and awareness about the importance of insects can help foster greater appreciation and protection of these small but vital inhabitants of our planet.'\n",
    "\n",
    "\n",
    "light_result = light_model.fullAnnotate(text)[0]\n",
    "\n",
    "[(s.metadata['sentence'], s.result) for s in light_result['sentence']]"
   ]
  },
  {
   "cell_type": "code",
   "execution_count": 15,
   "metadata": {},
   "outputs": [
    {
     "data": {
      "text/html": [
       "<div>\n",
       "<style scoped>\n",
       "    .dataframe tbody tr th:only-of-type {\n",
       "        vertical-align: middle;\n",
       "    }\n",
       "\n",
       "    .dataframe tbody tr th {\n",
       "        vertical-align: top;\n",
       "    }\n",
       "\n",
       "    .dataframe thead th {\n",
       "        text-align: right;\n",
       "    }\n",
       "</style>\n",
       "<table border=\"1\" class=\"dataframe\">\n",
       "  <thead>\n",
       "    <tr style=\"text-align: right;\">\n",
       "      <th></th>\n",
       "      <th>keywords</th>\n",
       "      <th>begin</th>\n",
       "      <th>end</th>\n",
       "      <th>score</th>\n",
       "      <th>sentence</th>\n",
       "    </tr>\n",
       "  </thead>\n",
       "  <tbody>\n",
       "    <tr>\n",
       "      <th>0</th>\n",
       "      <td>insects</td>\n",
       "      <td>0</td>\n",
       "      <td>6</td>\n",
       "      <td>0.058036</td>\n",
       "      <td>0</td>\n",
       "    </tr>\n",
       "    <tr>\n",
       "      <th>2</th>\n",
       "      <td>known</td>\n",
       "      <td>108</td>\n",
       "      <td>112</td>\n",
       "      <td>0.268544</td>\n",
       "      <td>0</td>\n",
       "    </tr>\n",
       "    <tr>\n",
       "      <th>1</th>\n",
       "      <td>one</td>\n",
       "      <td>12</td>\n",
       "      <td>14</td>\n",
       "      <td>0.424803</td>\n",
       "      <td>0</td>\n",
       "    </tr>\n",
       "    <tr>\n",
       "      <th>3</th>\n",
       "      <td>animal</td>\n",
       "      <td>114</td>\n",
       "      <td>119</td>\n",
       "      <td>0.435028</td>\n",
       "      <td>0</td>\n",
       "    </tr>\n",
       "    <tr>\n",
       "      <th>5</th>\n",
       "      <td>ecosystems</td>\n",
       "      <td>272</td>\n",
       "      <td>281</td>\n",
       "      <td>0.206005</td>\n",
       "      <td>1</td>\n",
       "    </tr>\n",
       "    <tr>\n",
       "      <th>7</th>\n",
       "      <td>food</td>\n",
       "      <td>340</td>\n",
       "      <td>343</td>\n",
       "      <td>0.281761</td>\n",
       "      <td>1</td>\n",
       "    </tr>\n",
       "    <tr>\n",
       "      <th>4</th>\n",
       "      <td>play</td>\n",
       "      <td>250</td>\n",
       "      <td>253</td>\n",
       "      <td>0.435028</td>\n",
       "      <td>1</td>\n",
       "    </tr>\n",
       "    <tr>\n",
       "      <th>6</th>\n",
       "      <td>pollinators</td>\n",
       "      <td>286</td>\n",
       "      <td>296</td>\n",
       "      <td>0.435028</td>\n",
       "      <td>1</td>\n",
       "    </tr>\n",
       "    <tr>\n",
       "      <th>29</th>\n",
       "      <td>insects</td>\n",
       "      <td>1218</td>\n",
       "      <td>1224</td>\n",
       "      <td>0.058036</td>\n",
       "      <td>10</td>\n",
       "    </tr>\n",
       "    <tr>\n",
       "      <th>28</th>\n",
       "      <td>many</td>\n",
       "      <td>1213</td>\n",
       "      <td>1216</td>\n",
       "      <td>0.156446</td>\n",
       "      <td>10</td>\n",
       "    </tr>\n",
       "    <tr>\n",
       "      <th>27</th>\n",
       "      <td>wings</td>\n",
       "      <td>1194</td>\n",
       "      <td>1198</td>\n",
       "      <td>0.277154</td>\n",
       "      <td>10</td>\n",
       "    </tr>\n",
       "    <tr>\n",
       "      <th>30</th>\n",
       "      <td>habitats</td>\n",
       "      <td>1242</td>\n",
       "      <td>1249</td>\n",
       "      <td>0.281469</td>\n",
       "      <td>10</td>\n",
       "    </tr>\n",
       "    <tr>\n",
       "      <th>32</th>\n",
       "      <td>food</td>\n",
       "      <td>1279</td>\n",
       "      <td>1282</td>\n",
       "      <td>0.281761</td>\n",
       "      <td>10</td>\n",
       "    </tr>\n",
       "    <tr>\n",
       "      <th>31</th>\n",
       "      <td>predators</td>\n",
       "      <td>1259</td>\n",
       "      <td>1267</td>\n",
       "      <td>0.289125</td>\n",
       "      <td>10</td>\n",
       "    </tr>\n",
       "    <tr>\n",
       "      <th>34</th>\n",
       "      <td>many</td>\n",
       "      <td>1351</td>\n",
       "      <td>1354</td>\n",
       "      <td>0.156446</td>\n",
       "      <td>11</td>\n",
       "    </tr>\n",
       "    <tr>\n",
       "      <th>33</th>\n",
       "      <td>pollinators</td>\n",
       "      <td>1335</td>\n",
       "      <td>1345</td>\n",
       "      <td>0.435028</td>\n",
       "      <td>11</td>\n",
       "    </tr>\n",
       "    <tr>\n",
       "      <th>35</th>\n",
       "      <td>including</td>\n",
       "      <td>1374</td>\n",
       "      <td>1382</td>\n",
       "      <td>0.435028</td>\n",
       "      <td>11</td>\n",
       "    </tr>\n",
       "    <tr>\n",
       "      <th>36</th>\n",
       "      <td>insects</td>\n",
       "      <td>1434</td>\n",
       "      <td>1440</td>\n",
       "      <td>0.058036</td>\n",
       "      <td>12</td>\n",
       "    </tr>\n",
       "    <tr>\n",
       "      <th>37</th>\n",
       "      <td>play</td>\n",
       "      <td>1447</td>\n",
       "      <td>1450</td>\n",
       "      <td>0.435028</td>\n",
       "      <td>12</td>\n",
       "    </tr>\n",
       "    <tr>\n",
       "      <th>39</th>\n",
       "      <td>ants</td>\n",
       "      <td>1525</td>\n",
       "      <td>1528</td>\n",
       "      <td>0.268544</td>\n",
       "      <td>13</td>\n",
       "    </tr>\n",
       "    <tr>\n",
       "      <th>38</th>\n",
       "      <td>flies</td>\n",
       "      <td>1514</td>\n",
       "      <td>1518</td>\n",
       "      <td>0.434935</td>\n",
       "      <td>13</td>\n",
       "    </tr>\n",
       "    <tr>\n",
       "      <th>40</th>\n",
       "      <td>animal</td>\n",
       "      <td>1556</td>\n",
       "      <td>1561</td>\n",
       "      <td>0.435028</td>\n",
       "      <td>13</td>\n",
       "    </tr>\n",
       "    <tr>\n",
       "      <th>41</th>\n",
       "      <td>ecosystems</td>\n",
       "      <td>1658</td>\n",
       "      <td>1667</td>\n",
       "      <td>0.206005</td>\n",
       "      <td>14</td>\n",
       "    </tr>\n",
       "    <tr>\n",
       "      <th>42</th>\n",
       "      <td>insects</td>\n",
       "      <td>1761</td>\n",
       "      <td>1767</td>\n",
       "      <td>0.058036</td>\n",
       "      <td>15</td>\n",
       "    </tr>\n",
       "    <tr>\n",
       "      <th>43</th>\n",
       "      <td>like</td>\n",
       "      <td>1912</td>\n",
       "      <td>1915</td>\n",
       "      <td>0.288476</td>\n",
       "      <td>16</td>\n",
       "    </tr>\n",
       "    <tr>\n",
       "      <th>45</th>\n",
       "      <td>ecosystems</td>\n",
       "      <td>2070</td>\n",
       "      <td>2079</td>\n",
       "      <td>0.206005</td>\n",
       "      <td>17</td>\n",
       "    </tr>\n",
       "    <tr>\n",
       "      <th>44</th>\n",
       "      <td>human</td>\n",
       "      <td>2034</td>\n",
       "      <td>2038</td>\n",
       "      <td>0.290026</td>\n",
       "      <td>17</td>\n",
       "    </tr>\n",
       "    <tr>\n",
       "      <th>46</th>\n",
       "      <td>insects</td>\n",
       "      <td>2131</td>\n",
       "      <td>2137</td>\n",
       "      <td>0.058036</td>\n",
       "      <td>18</td>\n",
       "    </tr>\n",
       "    <tr>\n",
       "      <th>47</th>\n",
       "      <td>like</td>\n",
       "      <td>2160</td>\n",
       "      <td>2163</td>\n",
       "      <td>0.288476</td>\n",
       "      <td>19</td>\n",
       "    </tr>\n",
       "    <tr>\n",
       "      <th>48</th>\n",
       "      <td>predators</td>\n",
       "      <td>2255</td>\n",
       "      <td>2263</td>\n",
       "      <td>0.289125</td>\n",
       "      <td>19</td>\n",
       "    </tr>\n",
       "  </tbody>\n",
       "</table>\n",
       "</div>"
      ],
      "text/plain": [
       "       keywords  begin   end     score sentence\n",
       "0       insects      0     6  0.058036        0\n",
       "2         known    108   112  0.268544        0\n",
       "1           one     12    14  0.424803        0\n",
       "3        animal    114   119  0.435028        0\n",
       "5    ecosystems    272   281  0.206005        1\n",
       "7          food    340   343  0.281761        1\n",
       "4          play    250   253  0.435028        1\n",
       "6   pollinators    286   296  0.435028        1\n",
       "29      insects   1218  1224  0.058036       10\n",
       "28         many   1213  1216  0.156446       10\n",
       "27        wings   1194  1198  0.277154       10\n",
       "30     habitats   1242  1249  0.281469       10\n",
       "32         food   1279  1282  0.281761       10\n",
       "31    predators   1259  1267  0.289125       10\n",
       "34         many   1351  1354  0.156446       11\n",
       "33  pollinators   1335  1345  0.435028       11\n",
       "35    including   1374  1382  0.435028       11\n",
       "36      insects   1434  1440  0.058036       12\n",
       "37         play   1447  1450  0.435028       12\n",
       "39         ants   1525  1528  0.268544       13\n",
       "38        flies   1514  1518  0.434935       13\n",
       "40       animal   1556  1561  0.435028       13\n",
       "41   ecosystems   1658  1667  0.206005       14\n",
       "42      insects   1761  1767  0.058036       15\n",
       "43         like   1912  1915  0.288476       16\n",
       "45   ecosystems   2070  2079  0.206005       17\n",
       "44        human   2034  2038  0.290026       17\n",
       "46      insects   2131  2137  0.058036       18\n",
       "47         like   2160  2163  0.288476       19\n",
       "48    predators   2255  2263  0.289125       19"
      ]
     },
     "execution_count": 15,
     "metadata": {},
     "output_type": "execute_result"
    }
   ],
   "source": [
    "import pandas as pd\n",
    "\n",
    "keys_df = pd.DataFrame([(k.result, k.begin, k.end, k.metadata['score'],  k.metadata['sentence']) for k in light_result['keywords']],\n",
    "                       columns = ['keywords','begin','end','score','sentence'])\n",
    "keys_df['score'] = keys_df['score'].astype(float)\n",
    "\n",
    "# ordered by relevance\n",
    "keys_df.sort_values(['sentence','score']).head(30)"
   ]
  },
  {
   "cell_type": "code",
   "execution_count": 19,
   "metadata": {},
   "outputs": [
    {
     "name": "stderr",
     "output_type": "stream",
     "text": [
      "[Stage 1:>                                                          (0 + 1) / 1]\r"
     ]
    },
    {
     "name": "stdout",
     "output_type": "stream",
     "text": [
      "+--------------------------------------------------+\n",
      "|                                              text|\n",
      "+--------------------------------------------------+\n",
      "|The human KCNJ9 (Kir 3.3, GIRK3) is a member of...|\n",
      "|BACKGROUND: At present, it is one of the most i...|\n",
      "|OBJECTIVE: To investigate the relationship betw...|\n",
      "|Combined EEG/fMRI recording has been used to lo...|\n",
      "|Kohlschutter syndrome is a rare neurodegenerati...|\n",
      "|Statistical analysis of neuroimages is commonly...|\n",
      "|The synthetic DOX-LNA conjugate was characteriz...|\n",
      "|Our objective was to compare three different me...|\n",
      "|We conducted a phase II study to assess the eff...|\n",
      "|\"\"\"Monomeric sarcosine oxidase (MSOX) is a flav...|\n",
      "|We presented the tachinid fly Exorista japonica...|\n",
      "|The literature dealing with the water conductin...|\n",
      "|A novel approach to synthesize chitosan-O-isopr...|\n",
      "|An HPLC-ESI-MS-MS method has been developed for...|\n",
      "|The localizing and lateralizing values of eye a...|\n",
      "|OBJECTIVE: To evaluate the effectiveness and ac...|\n",
      "|For the construction of new combinatorial libra...|\n",
      "|We report the results of a screen for genetic a...|\n",
      "|Intraparenchymal pericatheter cyst is rarely re...|\n",
      "|It is known that patients with Klinefelter's sy...|\n",
      "+--------------------------------------------------+\n",
      "only showing top 20 rows\n",
      "\n"
     ]
    },
    {
     "name": "stderr",
     "output_type": "stream",
     "text": [
      "                                                                                \r"
     ]
    }
   ],
   "source": [
    "! wget -q https://s3.amazonaws.com/auxdata.johnsnowlabs.com/public/resources/en/pubmed/pubmed_sample_text_small.csv\n",
    "\n",
    "df = spark.read\\\n",
    "                .option(\"header\", \"true\")\\\n",
    "                .csv(\"pubmed_sample_text_small.csv\")\\\n",
    "\n",
    "df.show(truncate=50)\n"
   ]
  },
  {
   "cell_type": "code",
   "execution_count": 20,
   "metadata": {},
   "outputs": [
    {
     "name": "stderr",
     "output_type": "stream",
     "text": [
      "                                                                                \r"
     ]
    },
    {
     "data": {
      "text/html": [
       "The human KCNJ9 (<span style=\"background-color: yellow;\">Kir</span> 3.3, GIRK3) is a member of the G-protein-activated <span style=\"background-color: yellow;\">inwardly</span> rectifying potassium (<span style=\"background-color: yellow;\">GIRK</span>) channel family. Here we describe the genomicorganization of the KCNJ9 <span style=\"background-color: yellow;\">locus</span> on chromosome 1q21-23 as a candidate <span style=\"background-color: yellow;\">gene</span> forType <span style=\"background-color: yellow;\">II</span> <span style=\"background-color: yellow;\">diabetes</span> mellitus in the <span style=\"background-color: yellow;\">Pima</span> <span style=\"background-color: yellow;\">Indian</span> population. The <span style=\"background-color: yellow;\">gene</span> spansapproximately 7.6 <span style=\"background-color: yellow;\">kb</span> and contains <span style=\"background-color: yellow;\">one</span> noncoding and <span style=\"background-color: yellow;\">two</span> coding exons separated byapproximately 2.2 and approximately 2.6 <span style=\"background-color: yellow;\">kb</span> introns, respectively. We identified14 single nucleotide polymorphisms (SNPs), <span style=\"background-color: yellow;\">including</span> <span style=\"background-color: yellow;\">one</span> that predicts aVal366Ala substitution, and an 8 base-pair (bp) insertion/deletion. Ourexpression studies revealed the presence of the transcript in various humantissues <span style=\"background-color: yellow;\">including</span> pancreas, and <span style=\"background-color: yellow;\">two</span> major insulin-responsive tissues: fat andskeletal muscle. The characterization of the KCNJ9 <span style=\"background-color: yellow;\">gene</span> should facilitate furtherstudies on the function of the KCNJ9 protein and allow evaluation of thepotential role of the <span style=\"background-color: yellow;\">locus</span> in <span style=\"background-color: yellow;\">Type</span> <span style=\"background-color: yellow;\">II</span> <span style=\"background-color: yellow;\">diabetes</span>."
      ],
      "text/plain": [
       "<IPython.core.display.HTML object>"
      ]
     },
     "metadata": {},
     "output_type": "display_data"
    },
    {
     "name": "stdout",
     "output_type": "stream",
     "text": [
      "\n",
      "\n",
      "\n"
     ]
    },
    {
     "data": {
      "text/html": [
       "BACKGROUND: At present, it is <span style=\"background-color: yellow;\">one</span> of the most important issues for the <span style=\"background-color: yellow;\">treatment</span> of <span style=\"background-color: yellow;\">breast</span> cancer to develop the <span style=\"background-color: yellow;\">standard</span> <span style=\"background-color: yellow;\">therapy</span> for <span style=\"background-color: yellow;\">patients</span> <span style=\"background-color: yellow;\">previously</span> <span style=\"background-color: yellow;\">treated</span> with <span style=\"background-color: yellow;\">anthracyclines</span> and <span style=\"background-color: yellow;\">taxanes</span>. With the objective of determining the usefulnessof <span style=\"background-color: yellow;\">vinorelbine</span> <span style=\"background-color: yellow;\">monotherapy</span> in <span style=\"background-color: yellow;\">patients</span> with <span style=\"background-color: yellow;\">advanced</span> or <span style=\"background-color: yellow;\">recurrent</span> <span style=\"background-color: yellow;\">breast</span> cancerafter <span style=\"background-color: yellow;\">standard</span> <span style=\"background-color: yellow;\">therapy</span>, we evaluated the efficacy and safety of <span style=\"background-color: yellow;\">vinorelbine</span> inpatients <span style=\"background-color: yellow;\">previously</span> <span style=\"background-color: yellow;\">treated</span> with <span style=\"background-color: yellow;\">anthracyclines</span> and <span style=\"background-color: yellow;\">taxanes</span>. METHODS: Vinorelbinewas <span style=\"background-color: yellow;\">administered</span> at a dose level of 25 mg/m(2) intravenously on days 1 and 8 of a3 week cycle. <span style=\"background-color: yellow;\">Patients</span> were given three or more <span style=\"background-color: yellow;\">cycles</span> in the absence of tumorprogression. A maximum of <span style=\"background-color: yellow;\">nine</span> <span style=\"background-color: yellow;\">cycles</span> were <span style=\"background-color: yellow;\">administered</span>. RESULTS: The responserate in 50 evaluable <span style=\"background-color: yellow;\">patients</span> was 20.0% (10 out of 50; 95% confidence interval,10.0-33.7%). Responders plus those who had minor response (<span style=\"background-color: yellow;\">MR</span>) or no change (NC) accounted for 58.0% [10 partial responses (PRs) + <span style=\"background-color: yellow;\">one</span> <span style=\"background-color: yellow;\">MR</span> + 18 NCs out of 50]. TheKaplan-Meier estimate (50% point) of time to progression (TTP) was 115.0 days.The response rate in the visceral organs was 17.3% (<span style=\"background-color: yellow;\">nine</span> PRs out of 52). Themajor toxicity was myelosuppression, which was reversible and did not requirediscontinuation of <span style=\"background-color: yellow;\">treatment</span>. CONCLUSION: The results of this study show thatvinorelbine <span style=\"background-color: yellow;\">monotherapy</span> is useful in <span style=\"background-color: yellow;\">patients</span> with <span style=\"background-color: yellow;\">advanced</span> or <span style=\"background-color: yellow;\">recurrent</span> breastcancer <span style=\"background-color: yellow;\">previously</span> exposed to both <span style=\"background-color: yellow;\">anthracyclines</span> and <span style=\"background-color: yellow;\">taxanes</span>."
      ],
      "text/plain": [
       "<IPython.core.display.HTML object>"
      ]
     },
     "metadata": {},
     "output_type": "display_data"
    },
    {
     "name": "stdout",
     "output_type": "stream",
     "text": [
      "\n",
      "\n",
      "\n"
     ]
    },
    {
     "data": {
      "text/html": [
       "OBJECTIVE: To investigate the relationship between <span style=\"background-color: yellow;\">preoperative</span> atrialfibrillation and early and <span style=\"background-color: yellow;\">late</span> clinical <span style=\"background-color: yellow;\">outcomes</span> following <span style=\"background-color: yellow;\">cardiac</span> <span style=\"background-color: yellow;\">surgery</span>.METHODS: A retrospective cohort including all consecutive coronary artery bypass graft and/or <span style=\"background-color: yellow;\">valve</span> <span style=\"background-color: yellow;\">surgery</span> <span style=\"background-color: yellow;\">patients</span> between 1995 and 2005 was identified (<span style=\"background-color: yellow;\">n</span> =9796). No patient had a concomitant <span style=\"background-color: yellow;\">surgical</span> <span style=\"background-color: yellow;\">AF</span> ablation. The <span style=\"background-color: yellow;\">association</span> betweenpreoperative <span style=\"background-color: yellow;\">atrial</span> <span style=\"background-color: yellow;\">fibrillation</span> and in-hospital <span style=\"background-color: yellow;\">outcomes</span> was examined. We alsodetermined <span style=\"background-color: yellow;\">late</span> death and cardiovascular-related re-hospitalization by linking toadministrative health databases. Median follow-up was 2.9 years (maximum 11years). RESULTS: The prevalence of <span style=\"background-color: yellow;\">preoperative</span> <span style=\"background-color: yellow;\">atrial</span> <span style=\"background-color: yellow;\">fibrillation</span> was 11.3% (<span style=\"background-color: yellow;\">n</span> = 1105), ranging from 7.2% in isolated <span style=\"background-color: yellow;\">CABG</span> to 30% in <span style=\"background-color: yellow;\">valve</span> <span style=\"background-color: yellow;\">surgery</span>. In-hospital <span style=\"background-color: yellow;\">mortality</span>, stroke, and renal failure were more common in <span style=\"background-color: yellow;\">atrial</span> fibrillationpatients (all <span style=\"background-color: yellow;\">p</span> < 0.0001), although the <span style=\"background-color: yellow;\">association</span> between <span style=\"background-color: yellow;\">atrial</span> fibrillationand <span style=\"background-color: yellow;\">mortality</span> was not statistically significant in multivariate logisticregression. Longitudinal analyses showed that <span style=\"background-color: yellow;\">preoperative</span> <span style=\"background-color: yellow;\">atrial</span> fibrillationwas <span style=\"background-color: yellow;\">associated</span> with decreased event-free survival (adjusted hazard ratio 1.55,95% confidence interval 1.42-1.70, <span style=\"background-color: yellow;\">p</span> < 0.0001). CONCLUSIONS: <span style=\"background-color: yellow;\">Preoperative</span> <span style=\"background-color: yellow;\">atrial</span> <span style=\"background-color: yellow;\">fibrillation</span> is <span style=\"background-color: yellow;\">associated</span> with increased <span style=\"background-color: yellow;\">late</span> <span style=\"background-color: yellow;\">mortality</span> and recurrentcardiovascular events post-<span style=\"background-color: yellow;\">cardiac</span> <span style=\"background-color: yellow;\">surgery</span>. Effective management strategies foratrial <span style=\"background-color: yellow;\">fibrillation</span> need to be explored and may provide an opportunity to improvethe long-term <span style=\"background-color: yellow;\">outcomes</span> of <span style=\"background-color: yellow;\">cardiac</span> <span style=\"background-color: yellow;\">surgical</span> <span style=\"background-color: yellow;\">patients</span>."
      ],
      "text/plain": [
       "<IPython.core.display.HTML object>"
      ]
     },
     "metadata": {},
     "output_type": "display_data"
    },
    {
     "name": "stdout",
     "output_type": "stream",
     "text": [
      "\n",
      "\n",
      "\n"
     ]
    },
    {
     "data": {
      "text/html": [
       "Combined <span style=\"background-color: yellow;\">EEG</span>/<span style=\"background-color: yellow;\">fMRI</span> <span style=\"background-color: yellow;\">recording</span> has been used to localize the generators of EEGevents and to identify subject state in cognitive <span style=\"background-color: yellow;\">studies</span> and is of increasinginterest. However, the <span style=\"background-color: yellow;\">large</span> <span style=\"background-color: yellow;\">EEG</span> artifacts induced during <span style=\"background-color: yellow;\">fMRI</span> have precludedsimultaneous <span style=\"background-color: yellow;\">EEG</span> and <span style=\"background-color: yellow;\">fMRI</span> <span style=\"background-color: yellow;\">recording</span>, restricting study design. Removing thisartifact is difficult, as it normally exceeds <span style=\"background-color: yellow;\">EEG</span> significantly and containscomponents in the <span style=\"background-color: yellow;\">EEG</span> frequency <span style=\"background-color: yellow;\">range</span>. We have developed a <span style=\"background-color: yellow;\">recording</span> <span style=\"background-color: yellow;\">system</span> andan <span style=\"background-color: yellow;\">artifact</span> reduction <span style=\"background-color: yellow;\">method</span> that <span style=\"background-color: yellow;\">reduce</span> this <span style=\"background-color: yellow;\">artifact</span> effectively. The recordingsystem has <span style=\"background-color: yellow;\">large</span> dynamic <span style=\"background-color: yellow;\">range</span> to capture both low-amplitude <span style=\"background-color: yellow;\">EEG</span> and largeimaging <span style=\"background-color: yellow;\">artifact</span> <span style=\"background-color: yellow;\">without</span> <span style=\"background-color: yellow;\">distortion</span> (resolution 2 <span style=\"background-color: yellow;\">microV</span>, <span style=\"background-color: yellow;\">range</span> 33.3 mV), 5-kHzsampling, and low-pass filtering prior to the main gain stage. Imaging artifactis reduced by subtracting an averaged <span style=\"background-color: yellow;\">artifact</span> waveform, followed by adaptivenoise cancellation to <span style=\"background-color: yellow;\">reduce</span> any residual <span style=\"background-color: yellow;\">artifact</span>. This <span style=\"background-color: yellow;\">method</span> was validated in <span style=\"background-color: yellow;\">recordings</span> from five subjects <span style=\"background-color: yellow;\">using</span> periodic and continuous <span style=\"background-color: yellow;\">fMRI</span> sequences.Spectral analysis revealed differences of only 10 to 18% between <span style=\"background-color: yellow;\">EEG</span> recorded in the scanner <span style=\"background-color: yellow;\">without</span> <span style=\"background-color: yellow;\">fMRI</span> and the corrected <span style=\"background-color: yellow;\">EEG</span>. Ninety-nine percent of spikewaves (<span style=\"background-color: yellow;\">median</span> 74 <span style=\"background-color: yellow;\">microV</span>) added to the <span style=\"background-color: yellow;\">recordings</span> were identified in the correctedEEG compared to 12% in the uncorrected <span style=\"background-color: yellow;\">EEG</span>. The <span style=\"background-color: yellow;\">median</span> noise after <span style=\"background-color: yellow;\">artifactreduction</span> was 8 <span style=\"background-color: yellow;\">microV</span>. All these measures indicate that most of the <span style=\"background-color: yellow;\">artifact</span> wasremoved, with minimal <span style=\"background-color: yellow;\">EEG</span> <span style=\"background-color: yellow;\">distortion</span>. <span style=\"background-color: yellow;\">Using</span> this <span style=\"background-color: yellow;\">recording</span> <span style=\"background-color: yellow;\">system</span> and <span style=\"background-color: yellow;\">artifactreduction</span> <span style=\"background-color: yellow;\">method</span>, we have demonstrated that simultaneous <span style=\"background-color: yellow;\">EEG</span>/<span style=\"background-color: yellow;\">fMRI</span> <span style=\"background-color: yellow;\">studies</span> are forthe first time possible, extending the scope of <span style=\"background-color: yellow;\">EEG</span>/<span style=\"background-color: yellow;\">fMRI</span> <span style=\"background-color: yellow;\">studies</span> considerably."
      ],
      "text/plain": [
       "<IPython.core.display.HTML object>"
      ]
     },
     "metadata": {},
     "output_type": "display_data"
    },
    {
     "name": "stdout",
     "output_type": "stream",
     "text": [
      "\n",
      "\n",
      "\n"
     ]
    },
    {
     "data": {
      "text/html": [
       "<span style=\"background-color: yellow;\">Kohlschutter</span> syndrome is a <span style=\"background-color: yellow;\">rare</span> <span style=\"background-color: yellow;\">neurodegenerative</span> <span style=\"background-color: yellow;\">disorder</span> <span style=\"background-color: yellow;\">presenting</span> <span style=\"background-color: yellow;\">withintractable</span> <span style=\"background-color: yellow;\">seizures</span>, <span style=\"background-color: yellow;\">developmental</span> <span style=\"background-color: yellow;\">regression</span> and <span style=\"background-color: yellow;\">characteristic</span> <span style=\"background-color: yellow;\">hypoplasticdental</span> <span style=\"background-color: yellow;\">enamel</span> <span style=\"background-color: yellow;\">indicative</span> of <span style=\"background-color: yellow;\">amelogenesis</span> <span style=\"background-color: yellow;\">imperfecta</span>. We report a <span style=\"background-color: yellow;\">new</span> <span style=\"background-color: yellow;\">family</span> with <span style=\"background-color: yellow;\">two</span> <span style=\"background-color: yellow;\">affected</span> <span style=\"background-color: yellow;\">siblings</span>."
      ],
      "text/plain": [
       "<IPython.core.display.HTML object>"
      ]
     },
     "metadata": {},
     "output_type": "display_data"
    },
    {
     "name": "stdout",
     "output_type": "stream",
     "text": [
      "\n",
      "\n",
      "\n"
     ]
    },
    {
     "data": {
      "text/html": [
       "<span style=\"background-color: yellow;\">Statistical</span> <span style=\"background-color: yellow;\">analysis</span> of neuroimages is commonly <span style=\"background-color: yellow;\">approached</span> with <span style=\"background-color: yellow;\">intergroupcomparisons</span> made by <span style=\"background-color: yellow;\">repeated</span> <span style=\"background-color: yellow;\">application</span> of univariate or multivariate testsperformed on the <span style=\"background-color: yellow;\">set</span> of the regions of <span style=\"background-color: yellow;\">interest</span> sampled in the acquired images.The use of such <span style=\"background-color: yellow;\">large</span> <span style=\"background-color: yellow;\">numbers</span> of <span style=\"background-color: yellow;\">tests</span> <span style=\"background-color: yellow;\">requires</span> <span style=\"background-color: yellow;\">application</span> of techniques forcorrection for <span style=\"background-color: yellow;\">multiple</span> comparisons. Standard <span style=\"background-color: yellow;\">multiple</span> comparison adjustments(such as the <span style=\"background-color: yellow;\">Bonferroni</span>) may be overly conservative when <span style=\"background-color: yellow;\">data</span> are correlatedand/or not normally distributed. Resampling-based step-down <span style=\"background-color: yellow;\">procedures</span> thatsuccessfully account for unknown correlation structures in the <span style=\"background-color: yellow;\">data</span> have recentlybeen introduced. We <span style=\"background-color: yellow;\">combined</span> resampling step-down <span style=\"background-color: yellow;\">procedures</span> with the MinimumVariance <span style=\"background-color: yellow;\">Adaptive</span> method, which allows selection of an optimal test statisticfrom a predefined class of statistics for the <span style=\"background-color: yellow;\">data</span> under <span style=\"background-color: yellow;\">analysis</span>. As shown insimulation studies and <span style=\"background-color: yellow;\">analysis</span> of autoradiographic <span style=\"background-color: yellow;\">data</span>, the <span style=\"background-color: yellow;\">combined</span> technique exhibits a significant increase in <span style=\"background-color: yellow;\">statistical</span> power, even for small sample sizes(n = 8, 9, 10)."
      ],
      "text/plain": [
       "<IPython.core.display.HTML object>"
      ]
     },
     "metadata": {},
     "output_type": "display_data"
    },
    {
     "name": "stdout",
     "output_type": "stream",
     "text": [
      "\n",
      "\n",
      "\n"
     ]
    },
    {
     "data": {
      "text/html": [
       "The <span style=\"background-color: yellow;\">synthetic</span> <span style=\"background-color: yellow;\">DOX</span>-LNA <span style=\"background-color: yellow;\">conjugate</span> was <span style=\"background-color: yellow;\">characterized</span> by <span style=\"background-color: yellow;\">proton</span> <span style=\"background-color: yellow;\">nuclear</span> <span style=\"background-color: yellow;\">magneticresonance</span> and <span style=\"background-color: yellow;\">mass</span> <span style=\"background-color: yellow;\">spectrometry</span>. In addition, the <span style=\"background-color: yellow;\">purity</span> of the <span style=\"background-color: yellow;\">conjugate</span> <span style=\"background-color: yellow;\">wasanalyzed</span> by reverse-phase high-performance <span style=\"background-color: yellow;\">liquid</span> <span style=\"background-color: yellow;\">chromatography</span>. The cellularuptake, <span style=\"background-color: yellow;\">intracellular</span> distribution, and <span style=\"background-color: yellow;\">cytotoxicity</span> of <span style=\"background-color: yellow;\">DOX</span>-LNA were assessed by <span style=\"background-color: yellow;\">flow</span> cytometry, fluorescence <span style=\"background-color: yellow;\">microscopy</span>, <span style=\"background-color: yellow;\">liquid</span> <span style=\"background-color: yellow;\">chromatography</span>/electrosprayionization tandem <span style=\"background-color: yellow;\">mass</span> <span style=\"background-color: yellow;\">spectrometry</span>, and the tetrazolium dye assay <span style=\"background-color: yellow;\">using</span> the invitro cell <span style=\"background-color: yellow;\">models</span>. The <span style=\"background-color: yellow;\">DOX</span>-LNA <span style=\"background-color: yellow;\">conjugate</span> showed substantially highertumor-specific <span style=\"background-color: yellow;\">cytotoxicity</span> compared with <span style=\"background-color: yellow;\">DOX</span>."
      ],
      "text/plain": [
       "<IPython.core.display.HTML object>"
      ]
     },
     "metadata": {},
     "output_type": "display_data"
    },
    {
     "name": "stdout",
     "output_type": "stream",
     "text": [
      "\n",
      "\n",
      "\n"
     ]
    },
    {
     "data": {
      "text/html": [
       "Our objective was to compare <span style=\"background-color: yellow;\">three</span> different <span style=\"background-color: yellow;\">methods</span> of <span style=\"background-color: yellow;\">blood</span> pressuremeasurement through the results of a controlled study aimed at comparing theantihypertensive effects of trandolapril and losartan. Two hundred andtwenty-nine hypertensive <span style=\"background-color: yellow;\">patients</span> were randomized in a double-blind parallelgroup study. After a 3-week placebo period, they received either 2 mgtrandolapril or 50 mg losartan once daily for 6 weeks. At the end of both placeboand active <span style=\"background-color: yellow;\">treatment</span> <span style=\"background-color: yellow;\">periods</span>, <span style=\"background-color: yellow;\">three</span> <span style=\"background-color: yellow;\">methods</span> of <span style=\"background-color: yellow;\">blood</span> <span style=\"background-color: yellow;\">pressure</span> measurement wereused: a) <span style=\"background-color: yellow;\">office</span> <span style=\"background-color: yellow;\">blood</span> <span style=\"background-color: yellow;\">pressure</span> (<span style=\"background-color: yellow;\">three</span> <span style=\"background-color: yellow;\">consecutive</span> <span style=\"background-color: yellow;\">measurements</span>); b) home selfblood <span style=\"background-color: yellow;\">pressure</span> <span style=\"background-color: yellow;\">measurements</span> (<span style=\"background-color: yellow;\">SBPM</span>), consisting of <span style=\"background-color: yellow;\">three</span> <span style=\"background-color: yellow;\">consecutive</span> <span style=\"background-color: yellow;\">measurements</span> <span style=\"background-color: yellow;\">performed</span> at home in the morning and in the evening for 7 <span style=\"background-color: yellow;\">consecutive</span> days; andc) ambulatory <span style=\"background-color: yellow;\">blood</span> <span style=\"background-color: yellow;\">pressure</span> <span style=\"background-color: yellow;\">measurements</span> (<span style=\"background-color: yellow;\">ABPM</span>), 24-h BP recordings with threemeasurements per hour. Of the 229 <span style=\"background-color: yellow;\">patients</span>, 199 (87%) <span style=\"background-color: yellow;\">performed</span> at least 12 validSBPM <span style=\"background-color: yellow;\">measurements</span> during both placebo and <span style=\"background-color: yellow;\">treatment</span> <span style=\"background-color: yellow;\">periods</span>, whereas only 160(70%) <span style=\"background-color: yellow;\">performed</span> <span style=\"background-color: yellow;\">good</span> quality 24-h <span style=\"background-color: yellow;\">ABPM</span> recordings during both <span style=\"background-color: yellow;\">periods</span> (P <.0001). One hundred-forty <span style=\"background-color: yellow;\">patients</span> <span style=\"background-color: yellow;\">performed</span> the <span style=\"background-color: yellow;\">three</span> <span style=\"background-color: yellow;\">methods</span> of measurementwell. At <span style=\"background-color: yellow;\">baseline</span> and with <span style=\"background-color: yellow;\">treatment</span>, <span style=\"background-color: yellow;\">agreement</span> between <span style=\"background-color: yellow;\">office</span> <span style=\"background-color: yellow;\">measurements</span> andABPM or <span style=\"background-color: yellow;\">SBPM</span> was weak. Conversely, there was a <span style=\"background-color: yellow;\">good</span> <span style=\"background-color: yellow;\">agreement</span> between <span style=\"background-color: yellow;\">ABPM</span> andSBPM. The mean difference (SBP/DBP) between <span style=\"background-color: yellow;\">ABPM</span> and <span style=\"background-color: yellow;\">SBPM</span> was 4.6 +/- 10.4/3.5+/- 7.1 at <span style=\"background-color: yellow;\">baseline</span> and 3.5 +/- 10.0/4.0 +/- 7.0 at the end of the treatmentperiod. The correlation between <span style=\"background-color: yellow;\">SBPM</span> and <span style=\"background-color: yellow;\">ABPM</span> expressed by the r coefficient and the P values were the following: at <span style=\"background-color: yellow;\">baseline</span> 0.79/0.70 (< 0.001/< .0001), withactive <span style=\"background-color: yellow;\">treatment</span> 0.74/0.69 (0.0001/.0001). <span style=\"background-color: yellow;\">Hourly</span> and 24-h <span style=\"background-color: yellow;\">reproducibility</span> ofblood <span style=\"background-color: yellow;\">pressure</span> response was quantified by the standard deviation of BP response. Compared with <span style=\"background-color: yellow;\">office</span> <span style=\"background-color: yellow;\">blood</span> <span style=\"background-color: yellow;\">pressure</span>, both global and <span style=\"background-color: yellow;\">hourly</span> <span style=\"background-color: yellow;\">SBPM</span> responsesexhibited a lower standard deviation. <span style=\"background-color: yellow;\">Hourly</span> <span style=\"background-color: yellow;\">reproducibility</span> of <span style=\"background-color: yellow;\">SBPM</span> response(10.8 <span style=\"background-color: yellow;\">mm</span> Hg/6.9 <span style=\"background-color: yellow;\">mm</span> Hg) was lower than <span style=\"background-color: yellow;\">hourly</span> <span style=\"background-color: yellow;\">reproducibility</span> of <span style=\"background-color: yellow;\">ABPM</span> response(15.6 <span style=\"background-color: yellow;\">mm</span> Hg/11.9 <span style=\"background-color: yellow;\">mm</span> Hg). In conclusion, <span style=\"background-color: yellow;\">SBPM</span> was easier to perform than <span style=\"background-color: yellow;\">ABPM</span>.There was a <span style=\"background-color: yellow;\">good</span> <span style=\"background-color: yellow;\">agreement</span> between these two <span style=\"background-color: yellow;\">methods</span> whereas concordance between <span style=\"background-color: yellow;\">SBPM</span> or <span style=\"background-color: yellow;\">ABPM</span> and <span style=\"background-color: yellow;\">office</span> <span style=\"background-color: yellow;\">measurements</span> was weak. As <span style=\"background-color: yellow;\">hourly</span> <span style=\"background-color: yellow;\">reproducibility</span> of <span style=\"background-color: yellow;\">SBPM</span> response is better than <span style=\"background-color: yellow;\">reproducibility</span> of both <span style=\"background-color: yellow;\">hourly</span> <span style=\"background-color: yellow;\">ABPM</span> and <span style=\"background-color: yellow;\">office</span> BPresponse, <span style=\"background-color: yellow;\">SBPM</span> seems to be the most appropriate method for evaluating residualantihypertensive effect."
      ],
      "text/plain": [
       "<IPython.core.display.HTML object>"
      ]
     },
     "metadata": {},
     "output_type": "display_data"
    },
    {
     "name": "stdout",
     "output_type": "stream",
     "text": [
      "\n",
      "\n",
      "\n"
     ]
    },
    {
     "data": {
      "text/html": [
       "We conducted a phase <span style=\"background-color: yellow;\">II</span> study to assess the <span style=\"background-color: yellow;\">efficacy</span> and tolerability ofirinotecan and <span style=\"background-color: yellow;\">cisplatin</span> as salvage <span style=\"background-color: yellow;\">chemotherapy</span> in <span style=\"background-color: yellow;\">patients</span> with <span style=\"background-color: yellow;\">advancedgastric</span> <span style=\"background-color: yellow;\">adenocarcinoma</span>, <span style=\"background-color: yellow;\">progressing</span> after both 5-fluorouracil (5-FU)- andtaxane-containing regimen. <span style=\"background-color: yellow;\">Patients</span> with measurable <span style=\"background-color: yellow;\">metastatic</span> gastric cancer,progressive after <span style=\"background-color: yellow;\">previous</span> <span style=\"background-color: yellow;\">chemotherapy</span> that consisted either of a 5-FU-basedregimen followed by second-line <span style=\"background-color: yellow;\">chemotherapy</span> containing <span style=\"background-color: yellow;\">taxanes</span> or a 5-FU andtaxane <span style=\"background-color: yellow;\">combination</span> were treated with <span style=\"background-color: yellow;\">irinotecan</span> and <span style=\"background-color: yellow;\">cisplatin</span>. <span style=\"background-color: yellow;\">Irinotecan</span> 70mg/m(2) was <span style=\"background-color: yellow;\">administered</span> on <span style=\"background-color: yellow;\">day</span> 1 and <span style=\"background-color: yellow;\">day</span> 15; <span style=\"background-color: yellow;\">cisplatin</span> 70 mg/m(2) wasadministered on <span style=\"background-color: yellow;\">day</span> 1. <span style=\"background-color: yellow;\">Treatment</span> was repeated every 4 weeks. For 28 patientsregistered, a total of 94 <span style=\"background-color: yellow;\">chemotherapy</span> cycles were <span style=\"background-color: yellow;\">administered</span>. The <span style=\"background-color: yellow;\">patients</span>'median age was 51 years and 27 (96%) had an <span style=\"background-color: yellow;\">ECOG</span> performance status of 1 orbelow. In an intent-to-treat analysis, seven <span style=\"background-color: yellow;\">patients</span> (25%) achieved a partialresponse, which maintained for 6.3 months (95% confidence interval 6.2-6.4months). The median progression-free and overall survival were 3.5 and 5.6months, respectively. Major toxic effects included nausea, diarrhea andneurotoxicity. Although there was one possible <span style=\"background-color: yellow;\">treatment</span>-related death, toxicity profiles were generally predictable and manageable. We conclude that irinotecanand <span style=\"background-color: yellow;\">cisplatin</span> is an active <span style=\"background-color: yellow;\">combination</span> for <span style=\"background-color: yellow;\">patients</span> with <span style=\"background-color: yellow;\">metastatic</span> gastriccancer in whom <span style=\"background-color: yellow;\">previous</span> <span style=\"background-color: yellow;\">chemotherapy</span> with 5-FU and <span style=\"background-color: yellow;\">taxanes</span> has failed."
      ],
      "text/plain": [
       "<IPython.core.display.HTML object>"
      ]
     },
     "metadata": {},
     "output_type": "display_data"
    },
    {
     "name": "stdout",
     "output_type": "stream",
     "text": [
      "\n",
      "\n",
      "\n"
     ]
    },
    {
     "data": {
      "text/html": [
       "\"\"\"Monomeric <span style=\"background-color: yellow;\">sarcosine</span> <span style=\"background-color: yellow;\">oxidase</span> (<span style=\"background-color: yellow;\">MSOX</span>) is a <span style=\"background-color: yellow;\">flavoenzyme</span> that <span style=\"background-color: yellow;\">catalyzes</span> the <span style=\"background-color: yellow;\">oxidative</span> <span style=\"background-color: yellow;\">demethylation</span> of <span style=\"background-color: yellow;\">sarcosine</span> (N-methylglycine) to <span style=\"background-color: yellow;\">yield</span> <span style=\"background-color: yellow;\">glycine</span>"
      ],
      "text/plain": [
       "<IPython.core.display.HTML object>"
      ]
     },
     "metadata": {},
     "output_type": "display_data"
    },
    {
     "name": "stdout",
     "output_type": "stream",
     "text": [
      "\n",
      "\n",
      "\n"
     ]
    },
    {
     "data": {
      "text/html": [
       "We presented the tachinid <span style=\"background-color: yellow;\">fly</span> Exorista japonica with moving <span style=\"background-color: yellow;\">host</span> <span style=\"background-color: yellow;\">models</span>: afreeze-dried <span style=\"background-color: yellow;\">larva</span> of the common armyworm Mythimna separata, a <span style=\"background-color: yellow;\">black</span> <span style=\"background-color: yellow;\">rubber</span> <span style=\"background-color: yellow;\">tube</span>,and a <span style=\"background-color: yellow;\">black</span> <span style=\"background-color: yellow;\">rubber</span> <span style=\"background-color: yellow;\">sheet</span>, to examine the effects of <span style=\"background-color: yellow;\">size</span>, curvature, and velocityon visual recognition of the <span style=\"background-color: yellow;\">host</span>. The <span style=\"background-color: yellow;\">host</span> <span style=\"background-color: yellow;\">models</span> were moved around the <span style=\"background-color: yellow;\">fly</span> on ametal arm driven by motor. The <span style=\"background-color: yellow;\">size</span> of the <span style=\"background-color: yellow;\">larva</span>, the <span style=\"background-color: yellow;\">velocity</span> of movement, andthe <span style=\"background-color: yellow;\">length</span> and <span style=\"background-color: yellow;\">diameter</span> of the <span style=\"background-color: yellow;\">rubber</span> <span style=\"background-color: yellow;\">tube</span> were varied. During the presentationof the <span style=\"background-color: yellow;\">host</span> model, fixation, <span style=\"background-color: yellow;\">approach</span>, and <span style=\"background-color: yellow;\">examination</span> behaviours of the flieswere recorded. The <span style=\"background-color: yellow;\">fly</span> fixated on, approached, and examined the <span style=\"background-color: yellow;\">black</span> <span style=\"background-color: yellow;\">rubber</span> tubeas well as the freeze-dried <span style=\"background-color: yellow;\">larva</span>. Furthermore, the <span style=\"background-color: yellow;\">fly</span> detected the <span style=\"background-color: yellow;\">black</span> rubbertube at a greater distance than the <span style=\"background-color: yellow;\">larva</span>. The <span style=\"background-color: yellow;\">rubber</span> <span style=\"background-color: yellow;\">tube</span> elicited higher <span style=\"background-color: yellow;\">rates</span> of <span style=\"background-color: yellow;\">approach</span> and <span style=\"background-color: yellow;\">examination</span> <span style=\"background-color: yellow;\">responses</span> than the <span style=\"background-color: yellow;\">rubber</span> <span style=\"background-color: yellow;\">sheet</span>, suggesting thatcurvature affects the <span style=\"background-color: yellow;\">responses</span> of the <span style=\"background-color: yellow;\">flies</span>. The <span style=\"background-color: yellow;\">length</span>, <span style=\"background-color: yellow;\">diameter</span>, and <span style=\"background-color: yellow;\">velocity</span> of <span style=\"background-color: yellow;\">host</span> <span style=\"background-color: yellow;\">models</span> had little effect on response <span style=\"background-color: yellow;\">rates</span> of the <span style=\"background-color: yellow;\">flies</span>. During hostpursuit, the <span style=\"background-color: yellow;\">fly</span> appeared to walk towards the ends of the <span style=\"background-color: yellow;\">tube</span>. These resultssuggest that the <span style=\"background-color: yellow;\">flies</span> respond to the leading or trailing edges of a movingobject and ignore the <span style=\"background-color: yellow;\">length</span> and <span style=\"background-color: yellow;\">diameter</span> of the object."
      ],
      "text/plain": [
       "<IPython.core.display.HTML object>"
      ]
     },
     "metadata": {},
     "output_type": "display_data"
    },
    {
     "name": "stdout",
     "output_type": "stream",
     "text": [
      "\n",
      "\n",
      "\n"
     ]
    },
    {
     "data": {
      "text/html": [
       "The <span style=\"background-color: yellow;\">literature</span> <span style=\"background-color: yellow;\">dealing</span> with the <span style=\"background-color: yellow;\">water</span> conducting properties of <span style=\"background-color: yellow;\">sapwood</span> <span style=\"background-color: yellow;\">xylem</span> <span style=\"background-color: yellow;\">intrees</span> is inconsistent in <span style=\"background-color: yellow;\">terminology</span>, symbols and <span style=\"background-color: yellow;\">units</span>. This has resulted fromconfusion in the use of either an analogy to Ohm's <span style=\"background-color: yellow;\">law</span> or Darcy's <span style=\"background-color: yellow;\">law</span> as thebasis for <span style=\"background-color: yellow;\">nomenclature</span>. Ohm's <span style=\"background-color: yellow;\">law</span> <span style=\"background-color: yellow;\">describes</span> <span style=\"background-color: yellow;\">movement</span> of electricity through aconductor, whereas Darcy's <span style=\"background-color: yellow;\">law</span> <span style=\"background-color: yellow;\">describes</span> <span style=\"background-color: yellow;\">movement</span> of a fluid (liquid or gas)through a <span style=\"background-color: yellow;\">porous</span> medium. However, it is generally not realized that, in theirfull notation, these laws are mathematically equivalent. Despite this, plantphysiologists have failed to agree on a convention for <span style=\"background-color: yellow;\">nomenclature</span>. As a result,the study of <span style=\"background-color: yellow;\">water</span> <span style=\"background-color: yellow;\">movement</span> through <span style=\"background-color: yellow;\">sapwood</span> <span style=\"background-color: yellow;\">xylem</span> is confusing, especially forscientists entering the field. To improve clarity, we <span style=\"background-color: yellow;\">suggest</span> the <span style=\"background-color: yellow;\">adoption</span> of asingle <span style=\"background-color: yellow;\">nomenclature</span> that can be used by all plant physiologists when describingwater <span style=\"background-color: yellow;\">movement</span> in <span style=\"background-color: yellow;\">xylem</span>. Darcy's <span style=\"background-color: yellow;\">law</span> is an explicit hydraulic relationship andthe basis for established theories that describe three-dimensional saturated and unsaturated flow in <span style=\"background-color: yellow;\">porous</span> media. We <span style=\"background-color: yellow;\">suggest</span>, therefore, that Darcy's <span style=\"background-color: yellow;\">law</span> is the more appropriate theoretical framework on which to base <span style=\"background-color: yellow;\">nomenclature</span> describingsapwood hydraulics. Our proposed <span style=\"background-color: yellow;\">nomenclature</span> is summarized in a <span style=\"background-color: yellow;\">table</span> thatdescribes conventional terms, with their formulae, dimensions, <span style=\"background-color: yellow;\">units</span> and symbols;the <span style=\"background-color: yellow;\">table</span> also lists the many synonyms found in recent <span style=\"background-color: yellow;\">literature</span> that describethe same concepts. <span style=\"background-color: yellow;\">Adoption</span> of this proposal will require some changes in the useof <span style=\"background-color: yellow;\">terminology</span>, but a common rigorous <span style=\"background-color: yellow;\">nomenclature</span> is needed for efficient andclear communication among scientists."
      ],
      "text/plain": [
       "<IPython.core.display.HTML object>"
      ]
     },
     "metadata": {},
     "output_type": "display_data"
    },
    {
     "name": "stdout",
     "output_type": "stream",
     "text": [
      "\n",
      "\n",
      "\n"
     ]
    },
    {
     "data": {
      "text/html": [
       "A novel <span style=\"background-color: yellow;\">approach</span> to <span style=\"background-color: yellow;\">synthesize</span> chitosan-O-isopropyl-5'-O-d4T <span style=\"background-color: yellow;\">monophosphateconjugate</span> was <span style=\"background-color: yellow;\">developed</span>. Chitosan-d4T <span style=\"background-color: yellow;\">monophosphate</span> <span style=\"background-color: yellow;\">prodrug</span> with <span style=\"background-color: yellow;\">aphosphoramidate</span> <span style=\"background-color: yellow;\">linkage</span> was <span style=\"background-color: yellow;\">efficiently</span> <span style=\"background-color: yellow;\">synthesized</span> through Atherton-Toddreaction. In vitro <span style=\"background-color: yellow;\">drug</span> <span style=\"background-color: yellow;\">release</span> <span style=\"background-color: yellow;\">studies</span> in <span style=\"background-color: yellow;\">pH</span> 1.1 and 7.4 <span style=\"background-color: yellow;\">indicated</span> thatchitosan-O-isopropyl-5'-O-d4T <span style=\"background-color: yellow;\">monophosphate</span> <span style=\"background-color: yellow;\">conjugate</span> prefers to <span style=\"background-color: yellow;\">release</span> the d4T 5'-(O-isopropyl)<span style=\"background-color: yellow;\">monophosphate</span> than <span style=\"background-color: yellow;\">free</span> d4T for a <span style=\"background-color: yellow;\">prolonged</span> <span style=\"background-color: yellow;\">period</span>. The resultssuggested that chitosan-O-isopropyl-5'-O-d4T <span style=\"background-color: yellow;\">monophosphate</span> <span style=\"background-color: yellow;\">conjugate</span> may be used as a sustained polymeric <span style=\"background-color: yellow;\">prodrug</span> for improving therapy efficacy and reducing sideeffects in antiretroviral treatment."
      ],
      "text/plain": [
       "<IPython.core.display.HTML object>"
      ]
     },
     "metadata": {},
     "output_type": "display_data"
    },
    {
     "name": "stdout",
     "output_type": "stream",
     "text": [
      "\n",
      "\n",
      "\n"
     ]
    },
    {
     "data": {
      "text/html": [
       "An HPLC-ESI-MS-MS <span style=\"background-color: yellow;\">method</span> has been developed for the <span style=\"background-color: yellow;\">quantitative</span> determination offour <span style=\"background-color: yellow;\">diterpenoids</span>, <span style=\"background-color: yellow;\">dihydrotanshinone</span> I, cryptotanshinone, <span style=\"background-color: yellow;\">tanshinone</span> I, andtanshinone <span style=\"background-color: yellow;\">IIA</span> in <span style=\"background-color: yellow;\">Radix</span> <span style=\"background-color: yellow;\">Salviae</span> <span style=\"background-color: yellow;\">Miltiorrhizae</span> (<span style=\"background-color: yellow;\">RSM</span>, the root of <span style=\"background-color: yellow;\">Salviamiltiorrhiza</span> <span style=\"background-color: yellow;\">BGE</span>.). The <span style=\"background-color: yellow;\">diterpenoids</span> were chromatographically separated on a C18 HPLC column, and the quantification of these <span style=\"background-color: yellow;\">diterpenoids</span> was based on thefragments of [M+H]+ under collision-activated conditions and in Selected ReactionMonitoring (SRM) mode. The <span style=\"background-color: yellow;\">quantitative</span> <span style=\"background-color: yellow;\">method</span> was validated, and the meanrecovery rates from fortified <span style=\"background-color: yellow;\">samples</span> (n=5) of <span style=\"background-color: yellow;\">dihydrotanshinone</span> I,cryptotanshinone, <span style=\"background-color: yellow;\">tanshinone</span> I, and <span style=\"background-color: yellow;\">tanshinone</span> <span style=\"background-color: yellow;\">IIA</span> were 95.0%, 97.2%, 93.1%, and 95.9% with variation coefficient of 6.0%, 4.3%, 3.7%, and 4.2%, respectively. Theestablished <span style=\"background-color: yellow;\">method</span> was successfully applied to the quality assessment of sevenbatches of <span style=\"background-color: yellow;\">RSM</span> <span style=\"background-color: yellow;\">samples</span> collected from different regions of China."
      ],
      "text/plain": [
       "<IPython.core.display.HTML object>"
      ]
     },
     "metadata": {},
     "output_type": "display_data"
    },
    {
     "name": "stdout",
     "output_type": "stream",
     "text": [
      "\n",
      "\n",
      "\n"
     ]
    },
    {
     "data": {
      "text/html": [
       "The localizing and <span style=\"background-color: yellow;\">lateralizing</span> <span style=\"background-color: yellow;\">values</span> of <span style=\"background-color: yellow;\">eye</span> and <span style=\"background-color: yellow;\">head</span> <span style=\"background-color: yellow;\">ictal</span> <span style=\"background-color: yellow;\">deviations</span> duringfrontal <span style=\"background-color: yellow;\">lobe</span> <span style=\"background-color: yellow;\">seizures</span> are <span style=\"background-color: yellow;\">still</span> matters of <span style=\"background-color: yellow;\">debate</span>. In particular, no specificdata regarding the <span style=\"background-color: yellow;\">origin</span> of <span style=\"background-color: yellow;\">ipsilateral</span> <span style=\"background-color: yellow;\">head</span> turning in <span style=\"background-color: yellow;\">frontal</span> <span style=\"background-color: yellow;\">lobe</span> seizuresare available. We report a patient with <span style=\"background-color: yellow;\">frontal</span> <span style=\"background-color: yellow;\">lobe</span> <span style=\"background-color: yellow;\">seizures</span> associated withreproducible, <span style=\"background-color: yellow;\">early</span>, <span style=\"background-color: yellow;\">ipsilateral</span> <span style=\"background-color: yellow;\">head</span> <span style=\"background-color: yellow;\">deviation</span>, where imaging andvideo-stereo-electroencephalography data, as well as surgical outcome,demonstrated the fronto-polar and orbito-<span style=\"background-color: yellow;\">frontal</span> <span style=\"background-color: yellow;\">origin</span> of the epilepticdischarge. We conclude that <span style=\"background-color: yellow;\">early</span> <span style=\"background-color: yellow;\">ipsilateral</span> <span style=\"background-color: yellow;\">head</span> <span style=\"background-color: yellow;\">deviation</span>, in the context offrontal <span style=\"background-color: yellow;\">lobe</span> epilepsy, raises the possibility of fronto-polar or orbito-frontalseizure onset.[Published with video sequences]."
      ],
      "text/plain": [
       "<IPython.core.display.HTML object>"
      ]
     },
     "metadata": {},
     "output_type": "display_data"
    },
    {
     "name": "stdout",
     "output_type": "stream",
     "text": [
      "\n",
      "\n",
      "\n"
     ]
    },
    {
     "data": {
      "text/html": [
       "OBJECTIVE: To evaluate the effectiveness and acceptability of <span style=\"background-color: yellow;\">expectantmanagement</span> of <span style=\"background-color: yellow;\">induced</span> and <span style=\"background-color: yellow;\">spontaneous</span> <span style=\"background-color: yellow;\">first</span> <span style=\"background-color: yellow;\">trimester</span> <span style=\"background-color: yellow;\">incomplete</span> <span style=\"background-color: yellow;\">abortion</span>.METHODS: A prospective observational trial, conducted between <span style=\"background-color: yellow;\">June</span> 2006 andNovember 2007, of 2 <span style=\"background-color: yellow;\">groups</span> of <span style=\"background-color: yellow;\">patients</span> diagnosed with an <span style=\"background-color: yellow;\">incomplete</span> <span style=\"background-color: yellow;\">abortion</span>: 66 <span style=\"background-color: yellow;\">patients</span> who had received misoprostol for an <span style=\"background-color: yellow;\">induced</span> <span style=\"background-color: yellow;\">abortion</span> (<span style=\"background-color: yellow;\">group</span> 1) and 30patients who had had a <span style=\"background-color: yellow;\">spontaneous</span> <span style=\"background-color: yellow;\">abortion</span> (<span style=\"background-color: yellow;\">group</span> 2). Transvaginal ultrasoundwas performed weekly. The success <span style=\"background-color: yellow;\">rate</span> (<span style=\"background-color: yellow;\">complete</span> <span style=\"background-color: yellow;\">abortion</span> without surgery), time to resolution, duration of bleeding and pelvic pain, <span style=\"background-color: yellow;\">rate</span> of infection, number ofunscheduled hospital visits, and level of <span style=\"background-color: yellow;\">satisfaction</span> with <span style=\"background-color: yellow;\">expectant</span> management were recorded. RESULTS: The incidence of <span style=\"background-color: yellow;\">complete</span> <span style=\"background-color: yellow;\">abortion</span> was 86.4% and 82.1% ingroups 1 and 2 respectively at day 14 after diagnosis, and 100% in both <span style=\"background-color: yellow;\">groups</span> atday 30 (two <span style=\"background-color: yellow;\">group</span> 2 <span style=\"background-color: yellow;\">patients</span> underwent curettage and were excluded from theanalysis). Both <span style=\"background-color: yellow;\">groups</span> <span style=\"background-color: yellow;\">reported</span> 100% <span style=\"background-color: yellow;\">satisfaction</span> with <span style=\"background-color: yellow;\">expectant</span> management,although over 90% of the women <span style=\"background-color: yellow;\">reported</span> feeling anxious. CONCLUSION: <span style=\"background-color: yellow;\">Expectantmanagement</span> for <span style=\"background-color: yellow;\">incomplete</span> <span style=\"background-color: yellow;\">abortion</span> in the <span style=\"background-color: yellow;\">first</span> <span style=\"background-color: yellow;\">trimester</span> after use ofmisoprostol or after <span style=\"background-color: yellow;\">spontaneous</span> <span style=\"background-color: yellow;\">abortion</span> <span style=\"background-color: yellow;\">may</span> be practical and feasible, althoughit <span style=\"background-color: yellow;\">may</span> increase anxiety associated with the impending <span style=\"background-color: yellow;\">abortion</span>."
      ],
      "text/plain": [
       "<IPython.core.display.HTML object>"
      ]
     },
     "metadata": {},
     "output_type": "display_data"
    },
    {
     "name": "stdout",
     "output_type": "stream",
     "text": [
      "\n",
      "\n",
      "\n"
     ]
    },
    {
     "data": {
      "text/html": [
       "For the <span style=\"background-color: yellow;\">construction</span> of <span style=\"background-color: yellow;\">new</span> <span style=\"background-color: yellow;\">combinatorial</span> <span style=\"background-color: yellow;\">libraries</span>, a <span style=\"background-color: yellow;\">lead</span> <span style=\"background-color: yellow;\">compound</span> was <span style=\"background-color: yellow;\">created</span> by <span style=\"background-color: yellow;\">replacing</span> the <span style=\"background-color: yellow;\">core</span> <span style=\"background-color: yellow;\">structure</span> of a <span style=\"background-color: yellow;\">hit</span> <span style=\"background-color: yellow;\">compound</span> <span style=\"background-color: yellow;\">discovered</span> by <span style=\"background-color: yellow;\">screening</span> <span style=\"background-color: yellow;\">forcytotoxic</span> <span style=\"background-color: yellow;\">agents</span> against a <span style=\"background-color: yellow;\">tumorigenic</span> <span style=\"background-color: yellow;\">cell</span> <span style=\"background-color: yellow;\">line</span>. The newly designed <span style=\"background-color: yellow;\">compoundmaintained</span> biological <span style=\"background-color: yellow;\">activity</span> and allowed alternative library <span style=\"background-color: yellow;\">construction</span> forantitumor drugs."
      ],
      "text/plain": [
       "<IPython.core.display.HTML object>"
      ]
     },
     "metadata": {},
     "output_type": "display_data"
    },
    {
     "name": "stdout",
     "output_type": "stream",
     "text": [
      "\n",
      "\n",
      "\n"
     ]
    },
    {
     "data": {
      "text/html": [
       "We report the results of a screen for <span style=\"background-color: yellow;\">genetic</span> <span style=\"background-color: yellow;\">association</span> with <span style=\"background-color: yellow;\">urinary</span> arsenicmetabolite <span style=\"background-color: yellow;\">levels</span> in three <span style=\"background-color: yellow;\">arsenic</span> <span style=\"background-color: yellow;\">metabolism</span> candidate genes, <span style=\"background-color: yellow;\">PNP</span>, <span style=\"background-color: yellow;\">GSTO</span>, andCYT19, in 135 <span style=\"background-color: yellow;\">arsenic</span>-exposed subjects from the <span style=\"background-color: yellow;\">Yaqui</span> <span style=\"background-color: yellow;\">Valley</span> in Sonora, Mexico,who were exposed to drinking water concentrations ranging from 5.5 to 43.3 ppb.We chose 23 polymorphic <span style=\"background-color: yellow;\">sites</span> to test in the <span style=\"background-color: yellow;\">arsenic</span>-exposed <span style=\"background-color: yellow;\">population</span>. <span style=\"background-color: yellow;\">Initial</span> phenotypes evaluated included the <span style=\"background-color: yellow;\">ratio</span> of <span style=\"background-color: yellow;\">urinary</span> inorganic <span style=\"background-color: yellow;\">arsenic</span>(III) toinorganic <span style=\"background-color: yellow;\">arsenic</span>(V) and the <span style=\"background-color: yellow;\">ratio</span> of <span style=\"background-color: yellow;\">urinary</span> dimethylarsenic(V) tomonomethylarsenic(V) (D:M). In the <span style=\"background-color: yellow;\">initial</span> <span style=\"background-color: yellow;\">association</span> screening, threepolymorphic <span style=\"background-color: yellow;\">sites</span> in the CYT19 gene were significantly associated with D:M ratiosin the total <span style=\"background-color: yellow;\">population</span>. Subsequent <span style=\"background-color: yellow;\">analysis</span> of this <span style=\"background-color: yellow;\">association</span> revealed thatthe <span style=\"background-color: yellow;\">association</span> signal for the entire <span style=\"background-color: yellow;\">population</span> was actually caused by anextremely <span style=\"background-color: yellow;\">strong</span> <span style=\"background-color: yellow;\">association</span> in only the <span style=\"background-color: yellow;\">children</span> (7-11 <span style=\"background-color: yellow;\">years</span> of age) betweenCYT19 genotype and D:M <span style=\"background-color: yellow;\">levels</span>. With <span style=\"background-color: yellow;\">children</span> removed from the <span style=\"background-color: yellow;\">analysis</span>, nosignificant <span style=\"background-color: yellow;\">genetic</span> <span style=\"background-color: yellow;\">association</span> was observed in adults (18-79 <span style=\"background-color: yellow;\">years</span>). Theexistence of a <span style=\"background-color: yellow;\">strong</span>, developmentally regulated <span style=\"background-color: yellow;\">genetic</span> <span style=\"background-color: yellow;\">association</span> betweenCYT19 and <span style=\"background-color: yellow;\">arsenic</span> <span style=\"background-color: yellow;\">metabolism</span> carries import for both <span style=\"background-color: yellow;\">arsenic</span> pharmacogenetics andarsenic toxicology, as well as for public health and governmental regulatoryofficials."
      ],
      "text/plain": [
       "<IPython.core.display.HTML object>"
      ]
     },
     "metadata": {},
     "output_type": "display_data"
    },
    {
     "name": "stdout",
     "output_type": "stream",
     "text": [
      "\n",
      "\n",
      "\n"
     ]
    },
    {
     "data": {
      "text/html": [
       "<span style=\"background-color: yellow;\">Intraparenchymal</span> <span style=\"background-color: yellow;\">pericatheter</span> <span style=\"background-color: yellow;\">cyst</span> is <span style=\"background-color: yellow;\">rarely</span> <span style=\"background-color: yellow;\">reported</span>. <span style=\"background-color: yellow;\">Obstruction</span> in <span style=\"background-color: yellow;\">theventriculoperitoneal</span> <span style=\"background-color: yellow;\">shunt</span> <span style=\"background-color: yellow;\">leads</span> to recurrence of <span style=\"background-color: yellow;\">hydrocephalus</span>, <span style=\"background-color: yellow;\">signs</span> of raised intracranial pressure and <span style=\"background-color: yellow;\">possibly</span> secondary complications. Blockage of thedistal <span style=\"background-color: yellow;\">catheter</span> can result, unusually, in cerebrospinal <span style=\"background-color: yellow;\">fluid</span> <span style=\"background-color: yellow;\">oedema</span> and/orintraparenchymal <span style=\"background-color: yellow;\">cyst</span> around the ventricular <span style=\"background-color: yellow;\">catheter</span> which may produce focalneurological <span style=\"background-color: yellow;\">deficit</span>. We report two cases of <span style=\"background-color: yellow;\">distal</span> <span style=\"background-color: yellow;\">catheter</span> <span style=\"background-color: yellow;\">obstruction</span> withformation of cysts causing local mass effect and neurological <span style=\"background-color: yellow;\">deficit</span>. Bothpatients had their <span style=\"background-color: yellow;\">shunt</span> system replaced, which led to <span style=\"background-color: yellow;\">resolution</span> of the <span style=\"background-color: yellow;\">cyst</span> andclinical improvement. One patient had endoscopic exploration of the <span style=\"background-color: yellow;\">cyst</span> whichconfirmed the diagnosis made on <span style=\"background-color: yellow;\">imaging</span> studies. Magnetic resonance <span style=\"background-color: yellow;\">imaging</span> wasmore helpful than computed tomography in differentiating between <span style=\"background-color: yellow;\">oedema</span> andcollection of cystic <span style=\"background-color: yellow;\">fluid</span>. Early recognition and treatment of <span style=\"background-color: yellow;\">pericatheter</span> <span style=\"background-color: yellow;\">cyst</span> in the presence of <span style=\"background-color: yellow;\">distal</span> <span style=\"background-color: yellow;\">shunt</span> <span style=\"background-color: yellow;\">obstruction</span> can lead to complete <span style=\"background-color: yellow;\">resolution</span> ofsymptoms and <span style=\"background-color: yellow;\">signs</span>."
      ],
      "text/plain": [
       "<IPython.core.display.HTML object>"
      ]
     },
     "metadata": {},
     "output_type": "display_data"
    },
    {
     "name": "stdout",
     "output_type": "stream",
     "text": [
      "\n",
      "\n",
      "\n"
     ]
    },
    {
     "data": {
      "text/html": [
       "It is <span style=\"background-color: yellow;\">known</span> that <span style=\"background-color: yellow;\">patients</span> with Klinefelter's <span style=\"background-color: yellow;\">syndrome</span> are <span style=\"background-color: yellow;\">inclined</span> to <span style=\"background-color: yellow;\">developconcomitant</span> <span style=\"background-color: yellow;\">malignant</span> <span style=\"background-color: yellow;\">tumours</span>, as <span style=\"background-color: yellow;\">well</span> as <span style=\"background-color: yellow;\">extragonadal</span> <span style=\"background-color: yellow;\">germ</span> <span style=\"background-color: yellow;\">cell</span> <span style=\"background-color: yellow;\">tumours</span>. <span style=\"background-color: yellow;\">Theassociation</span> of a <span style=\"background-color: yellow;\">primary</span> <span style=\"background-color: yellow;\">spinal</span> germinoma in a <span style=\"background-color: yellow;\">patient</span> with Klinefelter'ssyndrome is reported for the first time, and the <span style=\"background-color: yellow;\">coincidence</span> of <span style=\"background-color: yellow;\">elevatedgonadotropin</span> <span style=\"background-color: yellow;\">levels</span> and <span style=\"background-color: yellow;\">oncogenesis</span> is <span style=\"background-color: yellow;\">discussed</span>."
      ],
      "text/plain": [
       "<IPython.core.display.HTML object>"
      ]
     },
     "metadata": {},
     "output_type": "display_data"
    },
    {
     "name": "stdout",
     "output_type": "stream",
     "text": [
      "\n",
      "\n",
      "\n"
     ]
    }
   ],
   "source": [
    "result = yake_pipeline.fit(df).transform(df)\n",
    "result = result.withColumn('unique_keywords', F.array_distinct(\"keywords.result\"))\n",
    "def highlight(text, keywords):\n",
    "    for k in keywords:\n",
    "        text = (re.sub(r'(\\b%s\\b)'%k, r'<span style=\"background-color: yellow;\">\\1</span>', text, flags=re.IGNORECASE))\n",
    "    return text\n",
    "highlight_udf = udf(highlight, StringType())\n",
    "result = result.withColumn(\"highlighted_keywords\",highlight_udf('text','unique_keywords'))\n",
    "for r in result.select(\"highlighted_keywords\").limit(20).collect():\n",
    "    display(HTML(r.highlighted_keywords))\n",
    "    print(\"\\n\\n\")\n",
    "\n"
   ]
  },
  {
   "cell_type": "code",
   "execution_count": null,
   "metadata": {},
   "outputs": [],
   "source": []
  }
 ],
 "metadata": {
  "kernelspec": {
   "display_name": "Python 3",
   "language": "python",
   "name": "python3"
  },
  "language_info": {
   "codemirror_mode": {
    "name": "ipython",
    "version": 3
   },
   "file_extension": ".py",
   "mimetype": "text/x-python",
   "name": "python",
   "nbconvert_exporter": "python",
   "pygments_lexer": "ipython3",
   "version": "3.9.6"
  }
 },
 "nbformat": 4,
 "nbformat_minor": 2
}
