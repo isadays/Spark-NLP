{
 "cells": [
  {
   "cell_type": "code",
   "execution_count": 1,
   "metadata": {},
   "outputs": [
    {
     "name": "stdout",
     "output_type": "stream",
     "text": [
      "Collecting git+https://github.com/LIAAD/yake\n",
      "  Cloning https://github.com/LIAAD/yake to /private/var/folders/fv/z4h0lznx44n3wybc34chcwhr0000gn/T/pip-req-build-4_jduqqt\n",
      "  Running command git clone -q https://github.com/LIAAD/yake /private/var/folders/fv/z4h0lznx44n3wybc34chcwhr0000gn/T/pip-req-build-4_jduqqt\n",
      "Collecting tabulate\n",
      "  Downloading tabulate-0.9.0-py3-none-any.whl (35 kB)\n",
      "Collecting click>=6.0\n",
      "  Downloading click-8.1.7-py3-none-any.whl (97 kB)\n",
      "\u001b[K     |████████████████████████████████| 97 kB 1.2 MB/s eta 0:00:01\n",
      "\u001b[?25hRequirement already satisfied: numpy in /Users/isabeladias/.pyenv/versions/3.9.6/lib/python3.9/site-packages (from yake==0.4.8) (2.0.0)\n",
      "Collecting segtok\n",
      "  Downloading segtok-1.5.11-py3-none-any.whl (24 kB)\n",
      "Collecting networkx\n",
      "  Downloading networkx-3.2.1-py3-none-any.whl (1.6 MB)\n",
      "\u001b[K     |████████████████████████████████| 1.6 MB 3.6 MB/s eta 0:00:01\n",
      "\u001b[?25hCollecting jellyfish\n",
      "  Downloading jellyfish-1.0.4-cp39-cp39-macosx_10_12_x86_64.whl (317 kB)\n",
      "\u001b[K     |████████████████████████████████| 317 kB 4.1 MB/s eta 0:00:01\n",
      "\u001b[?25hCollecting regex\n",
      "  Downloading regex-2024.5.15-cp39-cp39-macosx_10_9_x86_64.whl (281 kB)\n",
      "\u001b[K     |████████████████████████████████| 281 kB 3.7 MB/s eta 0:00:01\n",
      "\u001b[?25hUsing legacy 'setup.py install' for yake, since package 'wheel' is not installed.\n",
      "Installing collected packages: regex, tabulate, segtok, networkx, jellyfish, click, yake\n",
      "    Running setup.py install for yake ... \u001b[?25ldone\n",
      "\u001b[?25hSuccessfully installed click-8.1.7 jellyfish-1.0.4 networkx-3.2.1 regex-2024.5.15 segtok-1.5.11 tabulate-0.9.0 yake-0.4.8\n",
      "\u001b[33mWARNING: You are using pip version 21.1.3; however, version 24.1.1 is available.\n",
      "You should consider upgrading via the '/Users/isabeladias/.pyenv/versions/3.9.6/bin/python3.9 -m pip install --upgrade pip' command.\u001b[0m\n"
     ]
    }
   ],
   "source": [
    "!pip install git+https://github.com/LIAAD/yake"
   ]
  },
  {
   "cell_type": "code",
   "execution_count": 2,
   "metadata": {},
   "outputs": [],
   "source": [
    "insect_text = 'Os insetos são uma das formas de vida mais abundantes e diversas do planeta, representando cerca de 80% de todas as espécies de animais conhecidas. Eles podem ser encontrados em quase todos os ambientes, desde as profundezas das cavernas até os picos das montanhas mais altas, e desempenham papéis cruciais nos ecossistemas, como polinizadores, decompositores e como parte fundamental das cadeias alimentares.A classe Insecta é dividida em diversos grupos, incluindo borboletas, abelhas, formigas, besouros, moscas e muitos outros. Cada grupo possui características únicas que lhes permitem sobreviver e prosperar em seus respectivos habitats. Por exemplo, as borboletas são conhecidas por suas asas coloridas e padrões de migração, enquanto as formigas são notórias por suas sociedades altamente organizadas e complexas.Os insetos têm um corpo segmentado em três partes principais: cabeça, tórax e abdômen. A cabeça geralmente possui antenas, olhos compostos e peças bucais adaptadas a diferentes tipos de alimentação. O tórax é a região onde estão localizadas as asas e pernas, permitindo a locomoção eficiente. O abdômen abriga muitos dos órgãos internos, como o sistema digestivo e reprodutor.A capacidade de voar é uma das inovações evolutivas mais significativas dos insetos. As asas permitiram que muitos insetos colonizassem novos habitats, escapassem de predadores e buscassem alimentos de maneira mais eficiente. As abelhas, por exemplo, são polinizadoras essenciais para muitas plantas com flores, incluindo várias culturas agrícolas importantes para a humanidade.Os insetos também desempenham um papel vital na decomposição de matéria orgânica. Besouros, moscas e formigas ajudam a decompor restos de plantas e animais, reciclando nutrientes de volta para o solo. Esse processo é fundamental para a saúde dos ecossistemas, pois mantém o ciclo de nutrientes e promove o crescimento de novas plantas.No entanto, nem todos os insetos são benéficos para os seres humanos. Alguns são considerados pragas, como os gafanhotos, que podem devastar plantações, e os mosquitos, que são vetores de doenças como a malária, dengue e zika. O controle dessas pragas é um desafio contínuo e requer um equilíbrio entre proteger a saúde humana e preservar os ecossistemas naturais.A diversidade de formas, cores e comportamentos dos insetos é impressionante. Alguns, como o louva-a-deus, são mestres da camuflagem, imitando folhas e galhos para se esconder de predadores ou emboscar presas. Outros, como os vaga-lumes, produzem luz própria através de um processo chamado bioluminescência, utilizado para atrair parceiros ou desorientar predadores.O estudo dos insetos, conhecido como entomologia, tem uma longa história e continua a ser uma área de pesquisa dinâmica. Os entomologistas investigam tudo, desde a ecologia e evolução dos insetos até suas interações com outros organismos e seu impacto nos ambientes humanos. Essas pesquisas têm aplicações práticas em áreas como agricultura, medicina e conservação.Recentemente, a preocupação com o declínio das populações de insetos tem aumentado. Fatores como a perda de habitat, o uso de pesticidas, a poluição e as mudanças climáticas estão contribuindo para a redução das populações de muitas espécies de insetos. Esse declínio pode ter consequências graves para os ecossistemas e a produção de alimentos, dado o papel essencial dos insetos na polinização e decomposição.Para garantir a conservação dos insetos, é essencial promover práticas sustentáveis e conscientes que protejam seus habitats naturais e minimizem os impactos negativos das atividades humanas. A educação e a conscientização sobre a importância dos insetos podem ajudar a fomentar uma maior apreciação e proteção desses pequenos, mas vitais, habitantes do nosso planeta.'\n"
   ]
  },
  {
   "cell_type": "code",
   "execution_count": 3,
   "metadata": {},
   "outputs": [
    {
     "name": "stdout",
     "output_type": "stream",
     "text": [
      "('insetos', np.float64(0.018767240371600147))\n",
      "('representando cerca', np.float64(0.02978569048873196))\n",
      "('vida mais abundantes', np.float64(0.03134618329747652))\n",
      "('abundantes e diversas', np.float64(0.03134618329747652))\n",
      "('alimentares.A classe Insecta', np.float64(0.04688055324729974))\n",
      "('classe Insecta', np.float64(0.08773873344885737))\n",
      "('Insecta é dividida', np.float64(0.08773873344885737))\n",
      "('ecossistemas', np.float64(0.10436799994488734))\n",
      "('formigas', np.float64(0.11760924384056148))\n",
      "('cadeias alimentares.A classe', np.float64(0.12324003954004067))\n",
      "('asas', np.float64(0.13117016212598248))\n",
      "('desempenham papéis cruciais', np.float64(0.14160531282122946))\n",
      "('habitats', np.float64(0.14542629889495007))\n",
      "('representando', np.float64(0.16590929506208074))\n",
      "('conhecidas', np.float64(0.16968294113871912))\n",
      "('vida', np.float64(0.17433721403558802))\n",
      "('abundantes', np.float64(0.17433721403558802))\n",
      "('diversas', np.float64(0.17433721403558802))\n",
      "('cerca', np.float64(0.17433721403558802))\n",
      "('complexas.Os insetos', np.float64(0.17504442355261152))\n"
     ]
    }
   ],
   "source": [
    "import yake\n",
    "custom_kw_extractor = yake.KeywordExtractor(lan=\"pt\")\n",
    "keywords = custom_kw_extractor.extract_keywords(insect_text)\n",
    "\n",
    "for kw in keywords:\n",
    "    print(kw)\n"
   ]
  },
  {
   "cell_type": "code",
   "execution_count": 5,
   "metadata": {},
   "outputs": [
    {
     "name": "stdout",
     "output_type": "stream",
     "text": [
      "('Insects', np.float64(0.02345925824406213))\n",
      "('abundant and diverse', np.float64(0.037558907457726005))\n",
      "('diverse forms', np.float64(0.11934564147938911))\n",
      "('ecosystems', np.float64(0.12017774821813089))\n",
      "('ants', np.float64(0.136390223983669))\n",
      "('insect', np.float64(0.14075554946437277))\n",
      "('wings', np.float64(0.15043965766869152))\n",
      "('habitats', np.float64(0.16288282329786333))\n",
      "('food', np.float64(0.16497185057174377))\n",
      "('human', np.float64(0.16513974403420892))\n",
      "('class Insecta', np.float64(0.16581549569506057))\n",
      "('predators', np.float64(0.1800025385009769))\n",
      "('representing', np.float64(0.18123238776442288))\n",
      "('abundant', np.float64(0.19026113962648536))\n",
      "('diverse', np.float64(0.19026113962648536))\n",
      "('life', np.float64(0.19026113962648536))\n",
      "('insect species', np.float64(0.19731866655626965))\n",
      "('insect species populations', np.float64(0.20714158781075165))\n",
      "('insect populations', np.float64(0.21417207040986327))\n",
      "('forms of life', np.float64(0.2235565752686569))\n"
     ]
    }
   ],
   "source": [
    "import yake\n",
    "text = 'Insects are one of the most abundant and diverse forms of life on the planet, representing about 80% of all known animal species. They can be found in nearly every environment, from the depths of caves to the peaks of the highest mountains, and they play crucial roles in ecosystems as pollinators, decomposers, and as fundamental parts of food chains. The class Insecta is divided into various groups, including butterflies, bees, ants, beetles, flies, and many others. Each group has unique characteristics that allow them to survive and thrive in their respective habitats. For example, butterflies are known for their colorful wings and migration patterns, while ants are notorious for their highly organized and complex societies. Insects have a segmented body divided into three main parts: head, thorax, and abdomen. The head usually has antennae, compound eyes, and mouthparts adapted to different types of feeding. The thorax is where the wings and legs are located, allowing for efficient locomotion. The abdomen houses many of the internal organs, such as the digestive and reproductive systems. The ability to fly is one of the most significant evolutionary innovations of insects. Wings have allowed many insects to colonize new habitats, escape predators, and seek food more efficiently. Bees, for example, are essential pollinators for many flowering plants, including several agricultural crops important to humanity. Insects also play a vital role in the decomposition of organic matter. Beetles, flies, and ants help break down plant and animal remains, recycling nutrients back into the soil. This process is fundamental for the health of ecosystems, as it maintains the nutrient cycle and promotes the growth of new plants. However, not all insects are beneficial to humans. Some are considered pests, such as locusts, which can devastate crops, and mosquitoes, which are vectors of diseases like malaria, dengue, and Zika. Controlling these pests is an ongoing challenge and requires a balance between protecting human health and preserving natural ecosystems. The diversity of forms, colors, and behaviors of insects is impressive. Some, like the praying mantis, are masters of camouflage, mimicking leaves and branches to hide from predators or ambush prey. Others, like fireflies, produce their own light through a process called bioluminescence, used to attract mates or disorient predators. The study of insects, known as entomology, has a long history and continues to be a dynamic field of research. Entomologists investigate everything from the ecology and evolution of insects to their interactions with other organisms and their impact on human environments. This research has practical applications in areas such as agriculture, medicine, and conservation. Recently, concern about the decline of insect populations has been growing. Factors such as habitat loss, pesticide use, pollution, and climate change are contributing to the reduction of many insect species populations. This decline can have severe consequences for ecosystems and food production, given the essential role of insects in pollination and decomposition. To ensure the conservation of insects, it is crucial to promote sustainable and conscious practices that protect their natural habitats and minimize the negative impacts of human activities. Education and awareness about the importance of insects can help foster greater appreciation and protection of these small but vital inhabitants of our planet.'\n",
    "\n",
    "custom_kw_extractor = yake.KeywordExtractor(lan=\"en\")\n",
    "keywords = custom_kw_extractor.extract_keywords(text)\n",
    "\n",
    "for kw in keywords:\n",
    "    print(kw)\n"
   ]
  }
 ],
 "metadata": {
  "kernelspec": {
   "display_name": "Python 3",
   "language": "python",
   "name": "python3"
  },
  "language_info": {
   "codemirror_mode": {
    "name": "ipython",
    "version": 3
   },
   "file_extension": ".py",
   "mimetype": "text/x-python",
   "name": "python",
   "nbconvert_exporter": "python",
   "pygments_lexer": "ipython3",
   "version": "3.9.6"
  }
 },
 "nbformat": 4,
 "nbformat_minor": 2
}
